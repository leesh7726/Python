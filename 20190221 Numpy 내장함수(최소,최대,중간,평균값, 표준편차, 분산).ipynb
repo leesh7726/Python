{
 "cells": [
  {
   "cell_type": "code",
   "execution_count": 7,
   "metadata": {
    "scrolled": true
   },
   "outputs": [
    {
     "name": "stdout",
     "output_type": "stream",
     "text": [
      "2\n",
      "2\n",
      "[2 4 3]\n",
      "[3 3 2]\n",
      "\n",
      "9\n",
      "9\n",
      "[8 7 9]\n",
      "[7 8 9]\n",
      "\n",
      "4.0\n",
      "[3. 4. 5.]\n",
      "[5. 4. 4.]\n",
      "\n",
      "5.0\n",
      "[4.33333333 5.         5.66666667]\n",
      "[5. 5. 5.]\n",
      "\n",
      "1.118033988749895\n",
      "1.25\n"
     ]
    }
   ],
   "source": [
    "import numpy as np\n",
    "a = np.array([[3,7,5],[8,4,3],[2,4,9]])\n",
    "# 3 7 5\n",
    "# 8 4 3\n",
    "# 2 4 9\n",
    "\n",
    "print(np.min(a)) #@@@@@@무슨차이???@@@@@@\n",
    "print(np.amin(a)) \n",
    "print(np.amin(a,0)) #열 최소값\n",
    "print(np.amin(a,1)) #행 최소값\n",
    "print()\n",
    "\n",
    "print(np.max(a)) # 최대값\n",
    "print(np.amax(a))\n",
    "print(np.amax(a, axis=0))\n",
    "print(np.amax(a, axis=1))\n",
    "print()\n",
    "\n",
    "print(np.median(a)) # 중간값\n",
    "print(np.median(a,axis = 0))\n",
    "print(np.median(a,axis = 1))\n",
    "print()\n",
    "\n",
    "print(np.mean(a)) # 평균\n",
    "print(np.mean(a,axis = 0))\n",
    "print(np.mean(a,axis = 1))\n",
    "print()\n",
    "\n",
    "a = np.array([1,2,3,4])\n",
    "print(np.std(a)) #표준편차?@@@@@@@@@@@@@@@@\n",
    "print(np.var(a)) #분산?@@@@@@@@@@@\n"
   ]
  }
 ],
 "metadata": {
  "kernelspec": {
   "display_name": "Python 3",
   "language": "python",
   "name": "python3"
  },
  "language_info": {
   "codemirror_mode": {
    "name": "ipython",
    "version": 3
   },
   "file_extension": ".py",
   "mimetype": "text/x-python",
   "name": "python",
   "nbconvert_exporter": "python",
   "pygments_lexer": "ipython3",
   "version": "3.7.1"
  }
 },
 "nbformat": 4,
 "nbformat_minor": 2
}
