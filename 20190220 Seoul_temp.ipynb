{
 "cells": [
  {
   "cell_type": "code",
   "execution_count": 140,
   "metadata": {
    "scrolled": false
   },
   "outputs": [
    {
     "name": "stdout",
     "output_type": "stream",
     "text": [
      "38.2\n"
     ]
    }
   ],
   "source": [
    "#1955년도 이전 최고기온 알아보기\n",
    "import csv\n",
    "f = open('seoul.csv', encoding=\"UTF-8\")\n",
    "data = csv.reader(f)\n",
    "\n",
    "highest = []\n",
    "\n",
    "for row in data:\n",
    "    if row[0] < '1955-12-31' :\n",
    "        if row[4] == '':\n",
    "            continue\n",
    "            \n",
    "        highest.append(float(row[4]))\n",
    "\n",
    "max = highest[0]\n",
    "for i in highest[1:]:\n",
    "    if float(max) < float(i):\n",
    "        max = i\n",
    "\n",
    "print(max)\n",
    "\n",
    "\n",
    "\n"
   ]
  },
  {
   "cell_type": "code",
   "execution_count": 142,
   "metadata": {},
   "outputs": [
    {
     "name": "stdout",
     "output_type": "stream",
     "text": [
      "38.2 1939-08-10\n"
     ]
    }
   ],
   "source": [
    "#1955년도 이전 최고기온 알아보기\n",
    "import csv\n",
    "f = open('seoul.csv', encoding=\"UTF-8\")\n",
    "data = csv.reader(f)\n",
    "next(data)\n",
    "max_temp = 0\n",
    "max_temp_date = ''\n",
    "cnt = 0\n",
    "for row in data:\n",
    "    if row[-1] != '':\n",
    "        if(int(row[0].split(\"-\")[0]) < 1955 and float(row[-1]) > max_temp):\n",
    "            max_temp = float(row[-1])\n",
    "            max_temp_date = row[0]\n",
    "\n",
    "print(max_temp, max_temp_date)\n",
    "\n"
   ]
  },
  {
   "cell_type": "code",
   "execution_count": 24,
   "metadata": {},
   "outputs": [
    {
     "name": "stdout",
     "output_type": "stream",
     "text": [
      "-23.1 1927-12-31\n"
     ]
    }
   ],
   "source": [
    "import csv\n",
    "import pandas as pd\n",
    "import numpy as np\n",
    "f = open('seoul.csv', encoding=\"UTF-8\")\n",
    "data = csv.reader(f)\n",
    "\n",
    "\n",
    "\n",
    "next(data)\n",
    "min_temp = 100.0\n",
    "min_temp_date = ''\n",
    "cnt = 0\n",
    "for row in data:\n",
    "    if row[-2] != '':\n",
    "        if(float(row[-2]) < min_temp):\n",
    "            min_temp = float(row[-2])\n",
    "            min_temp_date = row[0]\n",
    "\n",
    "print(min_temp, min_temp_date)\n",
    "\n",
    "\n",
    "\n",
    "\n"
   ]
  }
 ],
 "metadata": {
  "kernelspec": {
   "display_name": "Python 3",
   "language": "python",
   "name": "python3"
  },
  "language_info": {
   "codemirror_mode": {
    "name": "ipython",
    "version": 3
   },
   "file_extension": ".py",
   "mimetype": "text/x-python",
   "name": "python",
   "nbconvert_exporter": "python",
   "pygments_lexer": "ipython3",
   "version": "3.7.1"
  }
 },
 "nbformat": 4,
 "nbformat_minor": 2
}
