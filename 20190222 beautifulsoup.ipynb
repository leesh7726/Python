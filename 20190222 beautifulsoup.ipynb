{
 "cells": [
  {
   "cell_type": "code",
   "execution_count": 33,
   "metadata": {
    "scrolled": true
   },
   "outputs": [
    {
     "name": "stdout",
     "output_type": "stream",
     "text": [
      "(41, 2)\n",
      "        title rating\n",
      "0        그린 북   9.65\n",
      "1        가버나움   9.59\n",
      "2    보헤미안 랩소디   9.44\n",
      "3         언더독   9.42\n",
      "4  폴란드로 간 아이들   9.40\n"
     ]
    },
    {
     "data": {
      "text/plain": [
       "[<matplotlib.lines.Line2D at 0x2482c21c0b8>]"
      ]
     },
     "execution_count": 33,
     "metadata": {},
     "output_type": "execute_result"
    },
    {
     "data": {
      "image/png": "[encoded data removed]",
      "text/plain": [
       "<Figure size 432x288 with 1 Axes>"
      ]
     },
     "metadata": {
      "needs_background": "light"
     },
     "output_type": "display_data"
    }
   ],
   "source": [
    "from bs4 import BeautifulSoup\n",
    "import urllib.request\n",
    "import urllib.parse\n",
    "\n",
    "import pandas as pd\n",
    "\n",
    "date = pd.date_range(start='20160122', end='20190221')\n",
    "\n",
    "url = \"https://movie.naver.com/movie/sdb/rank/rmovie.nhn?sel=cur&date=20190221\"\n",
    "with urllib.request.urlopen(url) as response:\n",
    "    html = response.read()\n",
    "    soup = BeautifulSoup(html, 'html.parser')\n",
    "\n",
    "titles = soup.find_all(\"div\",{\"class\":\"tit5\"})\n",
    "ratings = soup.find_all(\"td\",{\"class\":\"point\"})\n",
    "\n",
    "data = []\n",
    "for i in range(len(titles)):\n",
    "    data.append([titles[i].a.string, ratings[i].string])\n",
    "    df = pd.DataFrame(data, columns =['title','rating'])\n",
    "print(df.shape)\n",
    "print(df.head())\n",
    "\n",
    "\n",
    "import matplotlib.pyplot as plt\n",
    "from matplotlib import font_manager, rc\n",
    "font_name = font_manager.FontProperties(fname=\"c:/Windows/Fonts/malgun.ttf\").get_name()\n",
    "rc('font', family=font_name)\n",
    "\n",
    "x = list(df['title'].head())\n",
    "y = list(df['rating'].head().astype(float))\n",
    "plt.plot(x,y)\n",
    "\n"
   ]
  }
 ],
 "metadata": {
  "kernelspec": {
   "display_name": "Python 3",
   "language": "python",
   "name": "python3"
  },
  "language_info": {
   "codemirror_mode": {
    "name": "ipython",
    "version": 3
   },
   "file_extension": ".py",
   "mimetype": "text/x-python",
   "name": "python",
   "nbconvert_exporter": "python",
   "pygments_lexer": "ipython3",
   "version": "3.7.1"
  }
 },
 "nbformat": 4,
 "nbformat_minor": 2
}
