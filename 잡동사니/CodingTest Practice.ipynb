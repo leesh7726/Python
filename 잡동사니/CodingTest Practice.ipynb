{
 "cells": [
  {
   "cell_type": "code",
   "execution_count": 31,
   "metadata": {},
   "outputs": [
    {
     "name": "stdout",
     "output_type": "stream",
     "text": [
      "1\n",
      "4\n",
      "0 7 1 1\n",
      "7 0 6 2\n",
      "1 1 0 2\n",
      "10 1 9 0\n",
      "#1 1\n"
     ]
    }
   ],
   "source": [
    "# test case number\n",
    "T = int(input())\n",
    "for rr in range(T):\n",
    "\n",
    "    # number of ingredients(N^2 shape of matrix)\n",
    "    N = int(input())\n",
    "    rr += 1\n",
    "    lst = []\n",
    "    result = []\n",
    "    \n",
    "    # update list values\n",
    "    for n in range(N):\n",
    "        a = input().split(' ')\n",
    "        lst.append(a)\n",
    "    \n",
    "    for i in range(0,N-1):\n",
    "        for j in range(i, N):\n",
    "            if i == j :\n",
    "                continue\n",
    "            r =int(lst[i][j]) + int(lst[j][i])\n",
    "            if r not in result:\n",
    "                result.append(r)\n",
    "    \n",
    "\n",
    "    \n",
    "    min = abs(result[0]-result[1])\n",
    "    \n",
    "    for i in range(0,len(result)):\n",
    "        for j in range(0,len(result)):\n",
    "            if result[i] == result[j]:\n",
    "                continue\n",
    "            if min >= abs(result[i]-result[j]):\n",
    "                min = abs(result[i]-result[j])\n",
    "            \n",
    "    \n",
    "            \n",
    "\n",
    "    # 회차출력\n",
    "    print(\"#\" + \"{}\".format(rr), end=' ');\n",
    "    print(min)\n",
    "\n",
    "\n",
    "    '''\n",
    "\n",
    "0  7  1  1\n",
    "7  0  6  2\n",
    "1  1  0  2\n",
    "10 1  9  0\n",
    "'''"
   ]
  },
  {
   "cell_type": "code",
   "execution_count": null,
   "metadata": {},
   "outputs": [],
   "source": []
  }
 ],
 "metadata": {
  "kernelspec": {
   "display_name": "Python 3",
   "language": "python",
   "name": "python3"
  },
  "language_info": {
   "codemirror_mode": {
    "name": "ipython",
    "version": 3
   },
   "file_extension": ".py",
   "mimetype": "text/x-python",
   "name": "python",
   "nbconvert_exporter": "python",
   "pygments_lexer": "ipython3",
   "version": "3.7.1"
  }
 },
 "nbformat": 4,
 "nbformat_minor": 2
}
