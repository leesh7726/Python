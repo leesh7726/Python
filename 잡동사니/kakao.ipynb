{
 "cells": [
  {
   "cell_type": "code",
   "execution_count": 142,
   "metadata": {},
   "outputs": [
    {
     "name": "stdout",
     "output_type": "stream",
     "text": [
      "Let it be\tGee\tYesterday\t뭐 있지\t\n",
      "Shape of You\tSIGNAL\tNew Face\tI LUV IT\t\n",
      "\n"
     ]
    }
   ],
   "source": [
    "import random\n",
    "\n",
    "\n",
    "input = \"2\\nYesterday\\tLet it be\\tGee\\t뭐 있지\\nBeatles\\tBeatles\\t소녀시대\\t소녀시대\\nSIGNAL\\tI LUV IT\\tNew Face\\tShape of You\\nTWICE\\tPSY\\tPSY\\tEd Sheeran\\n\"\n",
    "inputline = []\n",
    "\n",
    "musicarr = []\n",
    "artistarr = []\n",
    "\n",
    "playlist = {}\n",
    "\n",
    "shuffledList = []\n",
    "preartist = \"\"\n",
    "musicList = \"\"\n",
    "\n",
    "\n",
    "inputline = input.split('\\n')\n",
    "testcase = int(inputline[0]) #number of testcase , number of music = 4 * testcase\n",
    "\n",
    "\n",
    "\n",
    "for idx in range(1,len(inputline)-1,2) : #why -1 -> endof input '\\n' because inputline + 1\n",
    "    musicarr = inputline[idx].split('\\t')\n",
    "    artistarr = inputline[idx+1].split('\\t')\n",
    "    for i in range(0,len(artistarr)) :\n",
    "        if artistarr[i] not in playlist :\n",
    "            playlist[artistarr[i]] = [musicarr[i],] # make list -> can add value's' \n",
    "        else :\n",
    "            playlist[artistarr[i]].append(\"%s\" %musicarr[i])\n",
    "    \n",
    "\n",
    "\n",
    "    artist = list(playlist.keys())\n",
    "\n",
    "    while(len(shuffledList) < len(musicarr)):\n",
    "        nowartist = random.choice(artist)\n",
    "        if preartist == \"\":\n",
    "            preartist = nowartist\n",
    "            nowartist = random.choice(artist)\n",
    "\n",
    "        if preartist != nowartist :\n",
    "            music = random.choice(playlist[nowartist])\n",
    "            if music not in shuffledList:\n",
    "                shuffledList.append(music)\n",
    "                preartist = nowartist\n",
    "            else:\n",
    "                preartist = nowartist\n",
    "                continue\n",
    "        else :\n",
    "            preartist = nowartist\n",
    "            continue            \n",
    "\n",
    "\n",
    "    \n",
    "    for music in shuffledList:\n",
    "        musicList = musicList + music + \"\\t\"\n",
    "    musicList = musicList + \"\\n\"\n",
    "    shuffledList.clear()\n",
    "    playlist.clear()\n",
    "    \n",
    "print(musicList)"
   ]
  },
  {
   "cell_type": "code",
   "execution_count": null,
   "metadata": {},
   "outputs": [],
   "source": []
  },
  {
   "cell_type": "code",
   "execution_count": null,
   "metadata": {},
   "outputs": [],
   "source": []
  },
  {
   "cell_type": "code",
   "execution_count": null,
   "metadata": {},
   "outputs": [],
   "source": []
  }
 ],
 "metadata": {
  "kernelspec": {
   "display_name": "Python 3",
   "language": "python",
   "name": "python3"
  },
  "language_info": {
   "codemirror_mode": {
    "name": "ipython",
    "version": 3
   },
   "file_extension": ".py",
   "mimetype": "text/x-python",
   "name": "python",
   "nbconvert_exporter": "python",
   "pygments_lexer": "ipython3",
   "version": "3.7.1"
  }
 },
 "nbformat": 4,
 "nbformat_minor": 2
}
