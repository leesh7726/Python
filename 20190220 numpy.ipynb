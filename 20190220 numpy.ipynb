{
 "cells": [
  {
   "cell_type": "code",
   "execution_count": 15,
   "metadata": {},
   "outputs": [
    {
     "name": "stdout",
     "output_type": "stream",
     "text": [
      "[1 2 3 4]\n",
      "[[1 2]\n",
      " [3 4]]\n",
      "[[1 2 3 4]]\n",
      "[1.+0.j 2.+0.j 3.+0.j 4.+0.j]\n"
     ]
    }
   ],
   "source": [
    "import numpy as np\n",
    "\n",
    "#1차원 array\n",
    "a = np.array([1,2,3,4])\n",
    "print(a)\n",
    "\n",
    "#다차원 array\n",
    "b = np.array([[1,2],[3,4]])\n",
    "print(b)\n",
    " \n",
    "#?\n",
    "c = np.array([1,2,3,4], ndmin = 2) #ndim?? -> 최소 차수 결정 // 2차원 배열로 선언됨\n",
    "print(c) \n",
    "\n",
    "d = np.array([1,2,3,4], dtype=complex) # dtype=complex -> 복소수 형태로\n",
    "print(d)"
   ]
  },
  {
   "cell_type": "code",
   "execution_count": 19,
   "metadata": {},
   "outputs": [
    {
     "name": "stdout",
     "output_type": "stream",
     "text": [
      "int32\n",
      "<class 'numpy.dtype'>\n"
     ]
    }
   ],
   "source": [
    "import numpy as np\n",
    "dt = np.dtype(np.int32)\n",
    "print(dt)\n",
    "print(type(dt))\n"
   ]
  },
  {
   "cell_type": "code",
   "execution_count": 244,
   "metadata": {
    "scrolled": true
   },
   "outputs": [
    {
     "name": "stdout",
     "output_type": "stream",
     "text": [
      "[10 20 30]\n",
      "<class 'numpy.int8'>\n",
      "[(10,) (20,) (30,)]\n",
      "<class 'numpy.void'>\n"
     ]
    }
   ],
   "source": [
    "import numpy as np\n",
    "dt = np.dtype([('age', np.int8)])\n",
    "a = np.array([10,20,30], dtype = np.int8)\n",
    "b = np.array([10,20,30], dtype = dt) #?????\n",
    "\n",
    "print(a)\n",
    "print(type(a[0]))\n",
    "print(b)\n",
    "print(type(b[0]))"
   ]
  },
  {
   "cell_type": "code",
   "execution_count": 41,
   "metadata": {},
   "outputs": [
    {
     "name": "stdout",
     "output_type": "stream",
     "text": [
      "(3,)\n",
      "(2, 3)\n",
      "[[1 2]\n",
      " [3 4]\n",
      " [5 6]]\n"
     ]
    }
   ],
   "source": [
    "import numpy as np\n",
    "a = np.array([1, 2, 3])\n",
    "print(a.shape) # 몇크기 행렬인지 출력\n",
    "\n",
    "a1 = np.array([[1,2,3],[4,5,6]])\n",
    "print(a1.shape)\n",
    "\n",
    "a1.shape = (3,2) # 2*3 행렬을 3*2로 바꿈 //([[1,2,3],[4,5,6]]) -> ([[1,2], [3,4], [5,6]])\n",
    "print(a1)\n"
   ]
  },
  {
   "cell_type": "code",
   "execution_count": 38,
   "metadata": {},
   "outputs": [
    {
     "name": "stdout",
     "output_type": "stream",
     "text": [
      "[ 3  6  9 12]\n",
      "[2 4 6 8]\n",
      "[ 1  4  9 16]\n"
     ]
    }
   ],
   "source": [
    "import numpy as np\n",
    "a = np.array([1,2,3,4]) #배열 간 연산 기능 제공\n",
    "print(a * 3)\n",
    "print(a + a)\n",
    "print(a * a)\n"
   ]
  },
  {
   "cell_type": "code",
   "execution_count": 60,
   "metadata": {},
   "outputs": [
    {
     "name": "stdout",
     "output_type": "stream",
     "text": [
      "[1 2 3 4 5 6 7 8]\n",
      "(8,)\n",
      "1\n",
      "[1 2 3 4]\n",
      "[[1 2]\n",
      " [3 4]]\n",
      "2\n",
      "<class 'numpy.ndarray'>\n",
      "<class 'numpy.ndarray'>\n",
      "[ 0  1  2  3  4  5  6  7  8  9 10 11 12 13 14 15 16 17 18 19 20 21 22 23]\n",
      "1\n",
      "3\n",
      "[[[ 0  1  2]\n",
      "  [ 3  4  5]\n",
      "  [ 6  7  8]\n",
      "  [ 9 10 11]]\n",
      "\n",
      " [[12 13 14]\n",
      "  [15 16 17]\n",
      "  [18 19 20]\n",
      "  [21 22 23]]]\n"
     ]
    }
   ],
   "source": [
    "import numpy as np\n",
    "a = np.array([1, 2, 3, 4, 5, 6, 7, 8])\n",
    "print(a)\n",
    "print(a.shape)\n",
    "print(a.ndim)\n",
    "\n",
    "a1 = np.array((1, 2, 3, 4))  #tuple 형태로 생성해도 같은 형식으로 나옴\n",
    "print(a1)\n",
    "\n",
    "a2 = np.array(((1, 2), (3, 4)))\n",
    "print(a2)\n",
    "print(a2.ndim)\n",
    "\n",
    "print(type(a))\n",
    "print(type(a2))\n",
    "\n",
    "#for i in range(0,14):\n",
    "#    print(i)\n",
    " \n",
    "a3 = np.arange(24) # numpy arange함수\n",
    "print(a3)\n",
    "print(a3.ndim)\n",
    "\n",
    "a4 = a3.reshape(2,4,3) # 차수 변경해서 다른 변수에 넣기 // shape 는 안됨.\n",
    "print(a4.ndim)\n",
    "print(a4)\n",
    "\n"
   ]
  },
  {
   "cell_type": "code",
   "execution_count": 83,
   "metadata": {
    "scrolled": true
   },
   "outputs": [
    {
     "name": "stdout",
     "output_type": "stream",
     "text": [
      "[[0. 0. 0.]\n",
      " [0. 0. 0.]\n",
      " [0. 0. 0.]]\n",
      "float64\n",
      "[[1. 1. 1. 1.]\n",
      " [1. 1. 1. 1.]]\n",
      "float64\n",
      "[[0. 0. 0.]\n",
      " [0. 0. 0.]\n",
      " [0. 0. 0.]]\n"
     ]
    }
   ],
   "source": [
    "import numpy as np\n",
    "a = np.zeros((3,3)) # n*p 배열 0으로 채우기\n",
    "print (a)\n",
    "print (a.dtype)\n",
    "\n",
    "a1 = np.ones((2,4))\n",
    "print (a1)\n",
    "print (a1.dtype)\n",
    "\n",
    "a2 = np.empty((3,3)) #임의의 값으로 채우기 //이전에 만든 같은 크기의 배열이 있다면 같은 배열을 불러오고 없을경우엔 임의의 값으로 채움\n",
    "print(a2)"
   ]
  },
  {
   "cell_type": "markdown",
   "metadata": {},
   "source": [
    "import numpy as np\n",
    "a = np.zeros((3,3)) # n*p 배열 0으로 채우기\n",
    "print (a)\n",
    "print (a.dtype)\n",
    "\n",
    "a1 = np.ones((2,4))\n",
    "print (a1)\n",
    "print (a1.dtype)\n",
    "\n",
    "a2 = np.empty((3,)) #임의의 값으로 채우기\n",
    "print(a2)"
   ]
  },
  {
   "cell_type": "code",
   "execution_count": 91,
   "metadata": {
    "scrolled": true
   },
   "outputs": [
    {
     "name": "stdout",
     "output_type": "stream",
     "text": [
      "1\n",
      "int8\n",
      "(6,)\n",
      "1\n",
      "float64\n",
      "(4,)\n",
      "[1 2 3 4]\n",
      "int16\n",
      "(4,)\n",
      "int32\n",
      "int32\n"
     ]
    }
   ],
   "source": [
    "import numpy as np\n",
    "a= np.array([1, 2, 3, 4, 5, 6], dtype=np.int8)\n",
    "print(a.ndim)\n",
    "print(a.dtype)\n",
    "print(a.shape)\n",
    "\n",
    "a1= np.array([1, 2, 3, 4], dtype=np.float)\n",
    "print(a1.ndim)\n",
    "print(a1.dtype)\n",
    "print(a1.shape)\n",
    "\n",
    "a2 = a1.astype(np.int16) # a1과같은 행렬을 다른 타입으로 새로 만들어줌\n",
    "print(a2)\n",
    "print(a2.dtype)\n",
    "print(a2.shape)\n",
    "\n",
    "\n",
    "#1차원 배열을 다 0으로 채우고 싶을 때\n",
    "a3 = np.zeros(5)\n",
    "#1차원 0으로 다 채우고 int 정의하고 싶을 때\n",
    "a4 = np.zeros(5, dtype=np.int)\n",
    "a5 = np.zeros((5,), dtype=np.int) # 튜플 형태 // @@@@차이 있나?@@@@\n",
    "print(a4.dtype)\n",
    "print(a5.dtype)\n",
    "\n"
   ]
  },
  {
   "cell_type": "code",
   "execution_count": 102,
   "metadata": {
    "scrolled": true
   },
   "outputs": [
    {
     "name": "stdout",
     "output_type": "stream",
     "text": [
      "[1 2 3]\n",
      "[1 2 3]\n",
      "int32\n",
      "[1. 2. 3.]\n",
      "int32\n",
      "(3,)\n",
      "[[0. 0. 0.]\n",
      " [0. 0. 0.]\n",
      " [0. 0. 0.]]\n",
      "2\n",
      "[[[0. 0. 0.]\n",
      "  [0. 0. 0.]\n",
      "  [0. 0. 0.]]\n",
      "\n",
      " [[0. 0. 0.]\n",
      "  [0. 0. 0.]\n",
      "  [0. 0. 0.]]\n",
      "\n",
      " [[0. 0. 0.]\n",
      "  [0. 0. 0.]\n",
      "  [0. 0. 0.]]]\n",
      "3\n",
      "[[1. 2. 3.]\n",
      " [4. 5. 6.]]\n",
      "(2, 3)\n",
      "[[1. 2.]\n",
      " [3. 4.]\n",
      " [5. 6.]]\n",
      "(3, 2)\n",
      "[1. 2. 3. 4. 5. 6.]\n"
     ]
    }
   ],
   "source": [
    "import numpy as np\n",
    "a = np.array([1, 2, 3])\n",
    "print(a)\n",
    "\n",
    "a1 = np.array((1, 2, 3))\n",
    "print(a1)\n",
    "print(a1.dtype)\n",
    "\n",
    "a2 = np.array([1, 2, 3], dtype=np.float)\n",
    "print(a2)\n",
    "print(a1.dtype)\n",
    "print(a1.shape)\n",
    "\n",
    "a3 = np.zeros((3,3))\n",
    "print(a3)\n",
    "print(a3.ndim)\n",
    "\n",
    "a4 = np.zeros((3,3,3))\n",
    "print(a4)\n",
    "print(a4.ndim)\n",
    "\n",
    "a5 = np.empty((2,3))\n",
    "print(a5)\n",
    "print(a5.shape)\n",
    "\n",
    "a5.shape = (3,2)\n",
    "print(a5)\n",
    "print(a5.shape)\n",
    "\n",
    "a6 = a5.reshape((6))\n",
    "print(a6)\n",
    "\n"
   ]
  },
  {
   "cell_type": "code",
   "execution_count": 110,
   "metadata": {
    "scrolled": true
   },
   "outputs": [
    {
     "name": "stdout",
     "output_type": "stream",
     "text": [
      "0\n",
      "1\n",
      "0\n",
      "1\n",
      "2\n",
      "3\n",
      "4\n",
      "5\n",
      "6\n",
      "7\n",
      "8\n",
      "9\n",
      "[3 4 5 6]\n"
     ]
    }
   ],
   "source": [
    "#Index, Slicing\n",
    "import numpy as np\n",
    "a = np.arange(10)\n",
    "print(a[0]) # Index\n",
    "print(a[1])\n",
    "for i in a:\n",
    "    print(i)\n",
    "    \n",
    "print(a[3:7]) #Slicing\n"
   ]
  },
  {
   "cell_type": "code",
   "execution_count": 116,
   "metadata": {},
   "outputs": [
    {
     "name": "stdout",
     "output_type": "stream",
     "text": [
      "(3, 3)\n",
      "2\n",
      "int32\n",
      "[2 3]\n"
     ]
    },
    {
     "data": {
      "text/plain": [
       "array([[4, 5, 6],\n",
       "       [7, 8, 9]])"
      ]
     },
     "execution_count": 116,
     "metadata": {},
     "output_type": "execute_result"
    }
   ],
   "source": [
    "import numpy as np\n",
    "a = np.array([[1,2,3],[4,5,6],[7,8,9]])\n",
    "print(a.shape)\n",
    "print(a.ndim)\n",
    "print(a.dtype)\n",
    "\n",
    "print (a[0][1:])\n",
    "a[1:]"
   ]
  },
  {
   "cell_type": "code",
   "execution_count": 123,
   "metadata": {},
   "outputs": [
    {
     "name": "stdout",
     "output_type": "stream",
     "text": [
      "(4, 3)\n",
      "int32\n",
      "2\n"
     ]
    },
    {
     "data": {
      "text/plain": [
       "array([[ 4,  5],\n",
       "       [ 7,  8],\n",
       "       [10, 11]])"
      ]
     },
     "execution_count": 123,
     "metadata": {},
     "output_type": "execute_result"
    }
   ],
   "source": [
    "import numpy as np\n",
    "a = np.array([[0,1,2], [3,4,5], [6,7,8], [9,10,11]])\n",
    "print(a.shape)\n",
    "print(a.dtype)\n",
    "print(a.ndim)\n",
    "print(a[1:4, 1:3]) # Slicing "
   ]
  },
  {
   "cell_type": "code",
   "execution_count": 142,
   "metadata": {},
   "outputs": [
    {
     "name": "stdout",
     "output_type": "stream",
     "text": [
      "type =  <class 'numpy.ndarray'>\n",
      "shape =  (3830, 104)\n",
      "첫번쨰 항목만 출력 :  ['\\ufeff행정구역' '서울특별시  (1100000000)' '서울특별시 종로구 (1111000000)' ...\n",
      " '제주특별자치도 서귀포시 대천동(5013060000)' '제주특별자치도 서귀포시 중문동(5013061000)'\n",
      " '제주특별자치도 서귀포시 예래동(5013062000)']\n",
      "항목 버리고 데이터만 출력 \n",
      " [['서울특별시  (1100000000)' '9857426' '9857426' ... '1010' '736' '5519']\n",
      " ['서울특별시 종로구 (1111000000)' '154770' '154770' ... '37' '26' '226']\n",
      " ['서울특별시 종로구 청운효자동(1111051500)' '13272' '13272' ... '1' '1' '17']\n",
      " ...\n",
      " ['제주특별자치도 서귀포시 대천동(5013060000)' '12993' '12993' ... '1' '0' '2']\n",
      " ['제주특별자치도 서귀포시 중문동(5013061000)' '10684' '10684' ... '5' '3' '4']\n",
      " ['제주특별자치도 서귀포시 예래동(5013062000)' '3927' '3927' ... '1' '1' '7']]\n"
     ]
    }
   ],
   "source": [
    "import numpy as np\n",
    "data = np.loadtxt(fname=\"village_population.csv\", encoding=\"utf-8\", # 인코딩 방식\n",
    "                  dtype=np.str, # @@@@ 스트링으로 가져옴? @@@@\n",
    "                  delimiter=\",\" , # ,로 구분\n",
    "                  usecols=range(0,104)) # @@@@ ??? @@@@\n",
    "\n",
    "print(\"type = \", type(data))\n",
    "print(\"shape = \", data.shape)\n",
    "\n",
    "print(\"첫번쨰 항목만 출력 : \", data[:,0])\n",
    "print(\"항목 버리고 데이터만 출력 \\n\",   data[1:,:])"
   ]
  },
  {
   "cell_type": "code",
   "execution_count": 152,
   "metadata": {
    "scrolled": true
   },
   "outputs": [
    {
     "name": "stdout",
     "output_type": "stream",
     "text": [
      "<U4\n",
      "[ True False  True]\n",
      "5.0\n",
      "9\n",
      "1\n",
      "45\n",
      "5.0\n",
      "9\n",
      "1\n",
      "45\n",
      "8.0\n",
      "9\n",
      "7\n",
      "24\n"
     ]
    }
   ],
   "source": [
    "data2 = np.array(['bob', 'john', 'bob'])\n",
    "print(data2.dtype)\n",
    "print(data2 == 'bob')\n",
    "\n",
    "\n",
    "\n",
    "\n",
    "data3 = np.array([1,2,3,4,5,6,7,8,9])\n",
    "print(data3.mean())\n",
    "print(data3.max())\n",
    "print(data3.min())\n",
    "print(data3.sum())\n",
    "\n",
    "data4 = np.array([[1,2,3], [4,5,6], [7,8,9]])\n",
    "print(data4.mean())\n",
    "print(data4.max())\n",
    "print(data4.min())\n",
    "print(data4.sum())\n",
    "\n",
    "print(data4[2].mean())\n",
    "print(data4[2].max())\n",
    "print(data4[2].min())\n",
    "print(data4[2].sum())\n"
   ]
  },
  {
   "cell_type": "code",
   "execution_count": 195,
   "metadata": {
    "scrolled": true
   },
   "outputs": [
    {
     "data": {
      "image/png": "[encoded data removed]",
      "text/plain": [
       "<Figure size 432x288 with 1 Axes>"
      ]
     },
     "metadata": {
      "needs_background": "light"
     },
     "output_type": "display_data"
    },
    {
     "data": {
      "image/png": "[encoded data removed]",
      "text/plain": [
       "<Figure size 432x288 with 1 Axes>"
      ]
     },
     "metadata": {
      "needs_background": "light"
     },
     "output_type": "display_data"
    }
   ],
   "source": [
    "import numpy as np\n",
    "data = np.loadtxt(fname = \"village_population.csv\", encoding='utf-8', dtype=np.str, delimiter=',', usecols=range(0,104))\n",
    "\n",
    "#전체 나이별 평균을 구하고 그래프를 출력하시오.\n",
    "#1 ~ 100세\n",
    "#print(data)\n",
    "\n",
    "age = []\n",
    "\n",
    "for i in range(3, 104):\n",
    "    age.append((data[1:,i].astype(np.int16)).sum()/3)\n",
    "    \n",
    "\n",
    "import matplotlib.pyplot as plt\n",
    "plt.hist(age)\n",
    "plt.show()\n",
    "plt.plot(age)\n",
    "plt.show()\n",
    "\n"
   ]
  },
  {
   "cell_type": "code",
   "execution_count": 250,
   "metadata": {},
   "outputs": [
    {
     "data": {
      "image/png": "[encoded data removed]",
      "text/plain": [
       "<Figure size 432x288 with 1 Axes>"
      ]
     },
     "metadata": {
      "needs_background": "light"
     },
     "output_type": "display_data"
    }
   ],
   "source": [
    "import numpy as np\n",
    "data = np.loadtxt(\"village_population.csv\", encoding= 'utf-8', dtype= np.str, delimiter=',', usecols=range(0,104) )\n",
    "\n",
    "#data2 = data[1:,3:]\n",
    "#data3 = data2.astype(np.int)\n",
    "data2 = []\n",
    "\n",
    "for row in data:\n",
    "    if '00000000' in row[0]:\n",
    "        data2.append(row)\n",
    "\n",
    "data3 = np.array(data2)\n",
    "\n",
    "\n",
    "sum = []\n",
    "for r in range(3, 104):\n",
    "    \n",
    "    sum.append( data3[0:,r].astype(np.int32).sum()  )\n",
    "\n",
    "import matplotlib.pyplot as plt\n",
    "\n",
    "\n",
    "\n",
    "plt.show()\n",
    "plt.plot(sum)\n",
    "plt.show()\n",
    "    "
   ]
  },
  {
   "cell_type": "code",
   "execution_count": null,
   "metadata": {},
   "outputs": [],
   "source": []
  },
  {
   "cell_type": "code",
   "execution_count": null,
   "metadata": {},
   "outputs": [],
   "source": []
  },
  {
   "cell_type": "code",
   "execution_count": null,
   "metadata": {},
   "outputs": [],
   "source": []
  },
  {
   "cell_type": "code",
   "execution_count": null,
   "metadata": {},
   "outputs": [],
   "source": []
  },
  {
   "cell_type": "code",
   "execution_count": null,
   "metadata": {},
   "outputs": [],
   "source": []
  },
  {
   "cell_type": "code",
   "execution_count": null,
   "metadata": {},
   "outputs": [],
   "source": []
  },
  {
   "cell_type": "code",
   "execution_count": null,
   "metadata": {},
   "outputs": [],
   "source": []
  }
 ],
 "metadata": {
  "kernelspec": {
   "display_name": "Python 3",
   "language": "python",
   "name": "python3"
  },
  "language_info": {
   "codemirror_mode": {
    "name": "ipython",
    "version": 3
   },
   "file_extension": ".py",
   "mimetype": "text/x-python",
   "name": "python",
   "nbconvert_exporter": "python",
   "pygments_lexer": "ipython3",
   "version": "3.7.1"
  }
 },
 "nbformat": 4,
 "nbformat_minor": 2
}
