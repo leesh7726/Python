{
 "cells": [
  {
   "cell_type": "code",
   "execution_count": 1,
   "metadata": {
    "scrolled": true
   },
   "outputs": [
    {
     "name": "stdout",
     "output_type": "stream",
     "text": [
      "Collecting selenium\n",
      "  Downloading https://files.pythonhosted.org/packages/80/d6/4294f0b4bce4de0abf13e17190289f9d0613b0a44e5dd6a7f5ca98459853/selenium-3.141.0-py2.py3-none-any.whl (904kB)\n",
      "Requirement already satisfied: urllib3 in c:\\users\\administrator\\anaconda3\\lib\\site-packages (from selenium) (1.24.1)\n",
      "Installing collected packages: selenium\n",
      "Successfully installed selenium-3.141.0\n"
     ]
    }
   ],
   "source": [
    "!pip install selenium"
   ]
  },
  {
   "cell_type": "code",
   "execution_count": 17,
   "metadata": {},
   "outputs": [],
   "source": [
    "from selenium import webdriver\n",
    "driver = webdriver.Chrome(\"chromedriver.exe\")\n",
    "driver.get(\"http://www.naver.com\")\n",
    "driver.find_element_by_xpath('//*[@id=\"account\"]/div/a/i').click()\n",
    "userID = driver.find_element_by_xpath('//*[@id=\"id\"]')\n",
    "userID.send_keys(\"leesh7726\")\n",
    "\n",
    "userpwd = driver.find_element_by_xpath('//*[@id=\"pw\"]')\n",
    "userpwd.send_keys(\"\")\n",
    "\n",
    "driver.find_element_by_xpath('').click()"
   ]
  },
  {
   "cell_type": "code",
   "execution_count": 18,
   "metadata": {},
   "outputs": [],
   "source": [
    "from selenium import webdriver\n",
    "driver = webdriver.Chrome(\"chromedriver.exe\")\n",
    "driver.get(\"http://ksp.multicampus.com/ksp/servlet/controller.gate.common.GateConstServlet?p_grcode=000002&p_ssochk=N&p_gubun=&p_ifsubj=&p_ifyear=&p_ifsubjseq=&p_ifdistcode=\")\n",
    "driver.find_element_by_xpath('//*[@id=\"glovalWrap\"]/div/div[1]/ul/li[1]/a/img').click()\n",
    "userID = driver.find_element_by_xpath('//*[@id=\"id\"]')\n",
    "userID.send_keys(\"leesh7726\")\n",
    "\n",
    "userpwd = driver.find_element_by_xpath('//*[@id=\"pw\"]')\n",
    "userpwd.send_keys(\"\")\n",
    "\n",
    "driver.find_element_by_xpath('//*[@id=\"contents\"]/div[2]/div/div/form/fieldset/div[2]/button').click()\n",
    "\n"
   ]
  }
 ],
 "metadata": {
  "kernelspec": {
   "display_name": "Python 3",
   "language": "python",
   "name": "python3"
  },
  "language_info": {
   "codemirror_mode": {
    "name": "ipython",
    "version": 3
   },
   "file_extension": ".py",
   "mimetype": "text/x-python",
   "name": "python",
   "nbconvert_exporter": "python",
   "pygments_lexer": "ipython3",
   "version": "3.7.1"
  }
 },
 "nbformat": 4,
 "nbformat_minor": 2
}
