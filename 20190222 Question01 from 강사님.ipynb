{
 "cells": [
  {
   "cell_type": "code",
   "execution_count": 39,
   "metadata": {},
   "outputs": [],
   "source": [
    "from bs4 import BeautifulSoup\n",
    "import pandas as pd\n",
    "\n",
    "import urllib.request\n",
    "import urllib.parse\n",
    "\n",
    "#참고 링크\n",
    "# https://movie.daum.net/boxoffice/weekly?startDate=20190128\n",
    "# https://movie.daum.net/boxoffice/weekly?startDate=20190204\n",
    "sel_dates = ['20190114', '20190121', '20190128', '20190204']\n",
    "url = 'https://movie.daum.net/boxoffice/weekly?startDate=20190211'\n",
    "with urllib.request.urlopen(url) as response:\n",
    "    html = response.read()\n",
    "    soup = BeautifulSoup(html, 'html.parser')\n",
    "\n",
    "# 제목, 평점 Parsing\n",
    "titles = soup.find_all(\"strong\",{\"class\": \"tit_join\"})\n",
    "ratings = soup.find_all(\"span\",{\"class\": \"bg_star inner_star\"})\n",
    "#print(len(titles), len(ratings)) # 행의 크기 (10개씩 정의됨)\n",
    "\n",
    "#titles[0].string # '극한직업'\n",
    "#ratings[0].get('style') # 'width:76.7%'\n",
    "#ratings[0].get('style').split(\":\") # ['width', '76.7%']\n",
    "#ratings[0].get('style').split(\":\")[1] # '76.7%'\n",
    "#ratings[0].get('style').split(\":\")[1].replace('%','') # '76.7'\n",
    "\n",
    "#movies = []\n",
    "#for i in range(len(titles)):\n",
    "#    title = titles[i].string\n",
    "#    rating = ratings[i].get('style').split(\":\")[1].replace('%','')\n",
    "#    movies.append([title, rating])\n",
    "#movies\n",
    "\n",
    "# 위의 다음 영화 사이트의 박스오피스 주간 기간의 영화 10건의 \n",
    "# 평균 평점을 구하고 그래프로 출력하시오."
   ]
  },
  {
   "cell_type": "code",
   "execution_count": null,
   "metadata": {},
   "outputs": [],
   "source": []
  }
 ],
 "metadata": {
  "kernelspec": {
   "display_name": "Python 3",
   "language": "python",
   "name": "python3"
  },
  "language_info": {
   "codemirror_mode": {
    "name": "ipython",
    "version": 3
   },
   "file_extension": ".py",
   "mimetype": "text/x-python",
   "name": "python",
   "nbconvert_exporter": "python",
   "pygments_lexer": "ipython3",
   "version": "3.7.1"
  }
 },
 "nbformat": 4,
 "nbformat_minor": 2
}
