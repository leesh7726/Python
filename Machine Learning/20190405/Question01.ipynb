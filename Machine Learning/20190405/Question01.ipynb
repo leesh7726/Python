{
 "cells": [
  {
   "cell_type": "code",
   "execution_count": 1,
   "metadata": {},
   "outputs": [
    {
     "name": "stdout",
     "output_type": "stream",
     "text": [
      "Collecting pydataset\n",
      "  Downloading https://files.pythonhosted.org/packages/4f/15/548792a1bb9caf6a3affd61c64d306b08c63c8a5a49e2c2d931b67ec2108/pydataset-0.2.0.tar.gz (15.9MB)\n",
      "Requirement already satisfied: pandas in c:\\users\\administrator\\anaconda3\\lib\\site-packages (from pydataset) (0.23.4)\n",
      "Requirement already satisfied: python-dateutil>=2.5.0 in c:\\users\\administrator\\anaconda3\\lib\\site-packages (from pandas->pydataset) (2.7.5)\n",
      "Requirement already satisfied: pytz>=2011k in c:\\users\\administrator\\anaconda3\\lib\\site-packages (from pandas->pydataset) (2018.7)\n",
      "Requirement already satisfied: numpy>=1.9.0 in c:\\users\\administrator\\anaconda3\\lib\\site-packages (from pandas->pydataset) (1.15.4)\n",
      "Requirement already satisfied: six>=1.5 in c:\\users\\administrator\\appdata\\roaming\\python\\python37\\site-packages (from python-dateutil>=2.5.0->pandas->pydataset) (1.12.0)\n",
      "Building wheels for collected packages: pydataset\n",
      "  Running setup.py bdist_wheel for pydataset: started\n",
      "  Running setup.py bdist_wheel for pydataset: finished with status 'done'\n",
      "  Stored in directory: C:\\Users\\Administrator\\AppData\\Local\\pip\\Cache\\wheels\\fe\\3f\\dc\\5d02ccc767317191b12d042dd920fcf3432fab74bc7978598b\n",
      "Successfully built pydataset\n",
      "Installing collected packages: pydataset\n",
      "Successfully installed pydataset-0.2.0\n"
     ]
    }
   ],
   "source": [
    "#!pip install pydataset\n",
    "#https://www.cs.toronto.edu/~delve/data/boston/bostonDetail.html"
   ]
  },
  {
   "cell_type": "code",
   "execution_count": 2,
   "metadata": {},
   "outputs": [],
   "source": [
    "from sklearn import datasets\n",
    "from sklearn.tree import DecisionTreeClassifier\n",
    "from sklearn.linear_model import LogisticRegression\n",
    "from sklearn.neighbors import KNeighborsClassifier\n",
    "from sklearn.model_selection import train_test_split\n",
    "from sklearn.model_selection import cross_val_score\n",
    "from sklearn import metrics\n",
    "import pandas as pd\n",
    "import numpy as np"
   ]
  },
  {
   "cell_type": "code",
   "execution_count": 3,
   "metadata": {},
   "outputs": [
    {
     "name": "stdout",
     "output_type": "stream",
     "text": [
      "initiated datasets repo at: C:\\Users\\Administrator\\.pydataset/\n"
     ]
    },
    {
     "data": {
      "text/plain": [
       "array([[42000.0, 5850, 3, 1, 2, 'yes', 'no', 'yes', 'no', 'no', 1, 'no'],\n",
       "       [38500.0, 4000, 2, 1, 1, 'yes', 'no', 'no', 'no', 'no', 0, 'no'],\n",
       "       [49500.0, 3060, 3, 1, 1, 'yes', 'no', 'no', 'no', 'no', 0, 'no'],\n",
       "       [60500.0, 6650, 3, 1, 2, 'yes', 'yes', 'no', 'no', 'no', 0, 'no'],\n",
       "       [61000.0, 6360, 2, 1, 1, 'yes', 'no', 'no', 'no', 'no', 0, 'no']],\n",
       "      dtype=object)"
      ]
     },
     "execution_count": 3,
     "metadata": {},
     "output_type": "execute_result"
    }
   ],
   "source": [
    "from pydataset import data\n",
    "# Get the housing data\n",
    "df = data('Housing')\n",
    "df.head().values"
   ]
  },
  {
   "cell_type": "code",
   "execution_count": 4,
   "metadata": {},
   "outputs": [],
   "source": [
    "# label 'yes' and 'no'\n",
    "d = dict(zip(['no', 'yes'], range(0,2)))\n",
    "for i in zip(df.dtypes.index, df.dtypes):\n",
    "    if str(i[1]) == 'object':\n",
    "        df[i[0]] = df[i[0]].map(d)"
   ]
  },
  {
   "cell_type": "code",
   "execution_count": 5,
   "metadata": {},
   "outputs": [
    {
     "name": "stdout",
     "output_type": "stream",
     "text": [
      "0 (24999.999, 53000.0]\n",
      "1 (53000.0, 74500.0]\n",
      "2 (74500.0, 190000.0]\n"
     ]
    }
   ],
   "source": [
    "for i, j in enumerate(np.unique(pd.qcut(df['price'], 3))):\n",
    "    print(i, j)"
   ]
  },
  {
   "cell_type": "code",
   "execution_count": 6,
   "metadata": {},
   "outputs": [],
   "source": [
    "df['price'] = pd.qcut(df['price'], 3, labels=['0', '1', '2']).cat.codes\n",
    "y = df['price'] \n",
    "X = df.drop('price', 1)"
   ]
  },
  {
   "cell_type": "code",
   "execution_count": null,
   "metadata": {},
   "outputs": [],
   "source": []
  },
  {
   "cell_type": "code",
   "execution_count": null,
   "metadata": {},
   "outputs": [],
   "source": []
  }
 ],
 "metadata": {
  "kernelspec": {
   "display_name": "Python 3",
   "language": "python",
   "name": "python3"
  },
  "language_info": {
   "codemirror_mode": {
    "name": "ipython",
    "version": 3
   },
   "file_extension": ".py",
   "mimetype": "text/x-python",
   "name": "python",
   "nbconvert_exporter": "python",
   "pygments_lexer": "ipython3",
   "version": "3.7.1"
  }
 },
 "nbformat": 4,
 "nbformat_minor": 2
}
