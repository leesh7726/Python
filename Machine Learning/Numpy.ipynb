{
 "cells": [
  {
   "cell_type": "code",
   "execution_count": 20,
   "metadata": {
    "collapsed": true
   },
   "outputs": [
    {
     "name": "stdout",
     "output_type": "stream",
     "text": [
      "[1 2 3]\n",
      "\n",
      "[[1 2 3]\n",
      " [4 5 6]]\n",
      "\n",
      "[[1 2 3 4 5]]\n",
      "\n"
     ]
    }
   ],
   "source": [
    "import numpy as np\n",
    "test = np.array([1,2,3])\n",
    "print(test)\n",
    "print()\n",
    "\n",
    "test2 = np.array([[1,2,3],[4,5,6]])\n",
    "print(test2)\n",
    "print()\n",
    "\n",
    "test3 = np.array([1,2,3,4,5], ndmin = 2)\n",
    "print(test3)\n",
    "print()"
   ]
  },
  {
   "cell_type": "code",
   "execution_count": 13,
   "metadata": {
    "collapsed": true
   },
   "outputs": [
    {
     "name": "stdout",
     "output_type": "stream",
     "text": [
      "(3,)\n",
      "(2, 3)\n",
      "(1, 5)\n"
     ]
    }
   ],
   "source": [
    "print(test.shape)\n",
    "print(test2.shape)\n",
    "print(test3.shape)"
   ]
  },
  {
   "cell_type": "code",
   "execution_count": 18,
   "metadata": {
    "collapsed": true
   },
   "outputs": [
    {
     "name": "stdout",
     "output_type": "stream",
     "text": [
      "(2, 3)\n",
      "[[1 2 3]\n",
      " [4 5 6]]\n",
      "\n",
      "(3, 2)\n",
      "[[1 2]\n",
      " [3 4]\n",
      " [5 6]]\n"
     ]
    }
   ],
   "source": [
    "test4 = np.array([[1,2,3],[4,5,6]])\n",
    "print(test4.shape)\n",
    "print(test4)\n",
    "print()\n",
    "\n",
    "test5 = test4.reshape(3,2)\n",
    "print(test5.shape)\n",
    "print(test5)"
   ]
  },
  {
   "cell_type": "code",
   "execution_count": 22,
   "metadata": {},
   "outputs": [
    {
     "name": "stdout",
     "output_type": "stream",
     "text": [
      "[0 1 2 3 4 5 6 7 8 9]\n",
      "\n"
     ]
    }
   ],
   "source": [
    "test6 = np.arange(10)\n",
    "print(test6)\n",
    "print()"
   ]
  },
  {
   "cell_type": "code",
   "execution_count": 38,
   "metadata": {},
   "outputs": [
    {
     "name": "stdout",
     "output_type": "stream",
     "text": [
      "1\n",
      "[1 4 7]\n",
      "[1 2 3]\n",
      "9\n",
      "8\n",
      "\n",
      "5.0\n",
      "[2. 5. 8.]\n",
      "[4. 5. 6.]\n"
     ]
    }
   ],
   "source": [
    "test8 = np.array([[1,2,3],[4,5,6],[7,8,9]])\n",
    "print(np.amin(test8)) # 전체기준 min값\n",
    "print(np.amin(test8,1)) # 행 기준 \n",
    "print(np.amin(test8,0)) # 열 기준\n",
    "\n",
    "print(np.amax(test8))\n",
    "print(np.ptp(test8)) # min - max\n",
    "print()\n",
    "\n",
    "\n",
    "print(np.percentile(test8,50))\n",
    "print(np.percentile(test8,50,1))\n",
    "print(np.percentile(test8,50,0))"
   ]
  },
  {
   "cell_type": "code",
   "execution_count": 41,
   "metadata": {},
   "outputs": [
    {
     "name": "stdout",
     "output_type": "stream",
     "text": [
      "5.0\n",
      "5.0\n",
      "2.581988897471611\n"
     ]
    }
   ],
   "source": [
    "print(np.median(test8))\n",
    "print(np.mean(test8))\n",
    "print(np.std(test8)) # 표준편차"
   ]
  },
  {
   "cell_type": "code",
   "execution_count": 44,
   "metadata": {},
   "outputs": [
    {
     "name": "stdout",
     "output_type": "stream",
     "text": [
      "2.5\n",
      "1.118033988749895\n"
     ]
    }
   ],
   "source": [
    "data = [1,2,3,4]\n",
    "print(np.mean(data))\n",
    "#평균 = 2.5// 편차 [1.5, 0.5, 0.5, 1.5]\n",
    "print(np.std(data))\n",
    "# 표준편차 = 편차의 제곱의 평균의 루트값"
   ]
  }
 ],
 "metadata": {
  "kernelspec": {
   "display_name": "Python 3",
   "language": "python",
   "name": "python3"
  },
  "language_info": {
   "codemirror_mode": {
    "name": "ipython",
    "version": 3
   },
   "file_extension": ".py",
   "mimetype": "text/x-python",
   "name": "python",
   "nbconvert_exporter": "python",
   "pygments_lexer": "ipython3",
   "version": "3.7.1"
  }
 },
 "nbformat": 4,
 "nbformat_minor": 2
}
