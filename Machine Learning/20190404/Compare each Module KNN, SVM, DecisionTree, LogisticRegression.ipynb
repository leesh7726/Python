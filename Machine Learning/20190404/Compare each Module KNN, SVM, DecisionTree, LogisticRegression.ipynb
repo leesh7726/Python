{
 "cells": [
  {
   "cell_type": "markdown",
   "metadata": {},
   "source": [
    "* dataset = datasets.load_breast_cancer()\n",
    "  X = dataset.data\n",
    "  y = dataset.target\n",
    "\n",
    "데이터를 사용하여 \n",
    "- KNeighborsClassifier\n",
    "- SVM\n",
    "- DecisionTree\n",
    "- LogisticRegression\n",
    "\n",
    "각각의 accuracy_score 데이터를 임의적으로 만들어서 3가지를 비교해보시오."
   ]
  },
  {
   "cell_type": "code",
   "execution_count": 18,
   "metadata": {
    "scrolled": true
   },
   "outputs": [],
   "source": [
    "import numpy as np\n",
    "import pandas as pd\n",
    "import matplotlib.pyplot as plt\n",
    "\n",
    "from sklearn.model_selection import train_test_split\n",
    "from sklearn.linear_model import LogisticRegression\n",
    "from sklearn.svm import SVC\n",
    "from sklearn.tree import DecisionTreeClassifier\n",
    "from sklearn import metrics\n",
    "from sklearn import datasets, neighbors\n",
    "\n",
    "\n",
    "dataset = datasets.load_breast_cancer()\n",
    "x = dataset.data\n",
    "y = dataset.target\n",
    "xtrain, xtest, ytrain, ytest = train_test_split(x,y,test_size = 0.3, random_state=0)"
   ]
  },
  {
   "cell_type": "code",
   "execution_count": 16,
   "metadata": {},
   "outputs": [
    {
     "name": "stderr",
     "output_type": "stream",
     "text": [
      "C:\\Users\\Administrator\\Anaconda3\\lib\\site-packages\\sklearn\\linear_model\\logistic.py:433: FutureWarning: Default solver will be changed to 'lbfgs' in 0.22. Specify a solver to silence this warning.\n",
      "  FutureWarning)\n"
     ]
    },
    {
     "data": {
      "text/plain": [
       "(0.9532163742690059,\n",
       " 0.9590643274853801,\n",
       " 0.9649122807017544,\n",
       " 0.9532163742690059)"
      ]
     },
     "execution_count": 16,
     "metadata": {},
     "output_type": "execute_result"
    }
   ],
   "source": [
    "k = 10\n",
    "Knn =  neighbors.KNeighborsClassifier(k,weights=\"distance\")\n",
    "Knn.fit(xtrain,ytrain)\n",
    "kResult = Knn.predict(xtest)\n",
    "\n",
    "\n",
    "Svm = SVC(kernel='linear')\n",
    "Svm.fit(xtrain, ytrain)\n",
    "sResult = Svm.predict(xtest)\n",
    "\n",
    "\n",
    "Logregression = LogisticRegression()\n",
    "Logregression.fit(xtrain, ytrain)\n",
    "lResult = Logregression.predict(xtest)\n",
    "\n",
    "\n",
    "dtClf = DecisionTreeClassifier(criterion=\"entropy\", max_depth=3, random_state=0)\n",
    "dtClf.fit(xtrain, ytrain)\n",
    "dResult = dtClf.predict(xtest)\n",
    "\n",
    "\n",
    "\n",
    "\n",
    "metrics.accuracy_score(kResult, ytest),metrics.accuracy_score(sResult, ytest), metrics.accuracy_score(lResult, ytest), metrics.accuracy_score(dResult, ytest)\n",
    "\n",
    "\n"
   ]
  }
 ],
 "metadata": {
  "kernelspec": {
   "display_name": "Python 3",
   "language": "python",
   "name": "python3"
  },
  "language_info": {
   "codemirror_mode": {
    "name": "ipython",
    "version": 3
   },
   "file_extension": ".py",
   "mimetype": "text/x-python",
   "name": "python",
   "nbconvert_exporter": "python",
   "pygments_lexer": "ipython3",
   "version": "3.7.1"
  }
 },
 "nbformat": 4,
 "nbformat_minor": 2
}
