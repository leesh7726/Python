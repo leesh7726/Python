{
 "cells": [
  {
   "cell_type": "code",
   "execution_count": 1,
   "metadata": {},
   "outputs": [],
   "source": [
    "import tensorflow as tf"
   ]
  },
  {
   "cell_type": "code",
   "execution_count": 3,
   "metadata": {},
   "outputs": [
    {
     "name": "stdout",
     "output_type": "stream",
     "text": [
      "WARNING:tensorflow:From c:\\users\\administrator\\anaconda3\\envs\\tensorflow\\lib\\site-packages\\tensorflow\\python\\framework\\op_def_library.py:263: colocate_with (from tensorflow.python.framework.ops) is deprecated and will be removed in a future version.\n",
      "Instructions for updating:\n",
      "Colocations handled automatically by placer.\n"
     ]
    }
   ],
   "source": [
    "xtrain = [1,2,3]\n",
    "ytrain = [1,2,3]\n",
    "\n",
    "W = tf.Variable(tf.random_normal([1]), name='weight')\n",
    "b = tf.Variable(tf.random_normal([1]), name='bias')\n",
    "hypothesis = xtrain *W + b\n",
    "cost = tf.reduce_mean(tf.square(hypothesis - ytrain))\n",
    "#optimizer\n",
    "train = tf.train.GradientDescentOptimizer(learning_rate=0.01).minimize(cost)"
   ]
  },
  {
   "cell_type": "code",
   "execution_count": 4,
   "metadata": {},
   "outputs": [],
   "source": [
    "sess = tf.Session()\n",
    "sess.run(tf.global_variables_initializer())"
   ]
  },
  {
   "cell_type": "code",
   "execution_count": 7,
   "metadata": {},
   "outputs": [
    {
     "name": "stdout",
     "output_type": "stream",
     "text": [
      "0 0.12158278 [0.595995] [0.9183983]\n",
      "20 0.110423476 [0.6149817] [0.8752371]\n",
      "40 0.10028834 [0.6330762] [0.8341042]\n",
      "60 0.091083474 [0.6503202] [0.79490435]\n",
      "80 0.082723506 [0.6667539] [0.75754684]\n",
      "100 0.075130835 [0.6824152] [0.7219449]\n",
      "120 0.06823502 [0.6973405] [0.68801624]\n",
      "140 0.061972123 [0.7115644] [0.6556819]\n",
      "160 0.05628407 [0.7251199] [0.6248673]\n",
      "180 0.05111811 [0.7380382] [0.59550095]\n"
     ]
    }
   ],
   "source": [
    "for s in range(200):\n",
    "    _, cost_val,W_val,b_val = sess.run([train,cost,W,b])\n",
    "    #print(cost_val,W_val,b_val)\n",
    "    if s % 20 == 0 :\n",
    "        print(s,cost_val,W_val,b_val)"
   ]
  },
  {
   "cell_type": "code",
   "execution_count": null,
   "metadata": {},
   "outputs": [],
   "source": []
  }
 ],
 "metadata": {
  "kernelspec": {
   "display_name": "Python 3",
   "language": "python",
   "name": "python3"
  },
  "language_info": {
   "codemirror_mode": {
    "name": "ipython",
    "version": 3
   },
   "file_extension": ".py",
   "mimetype": "text/x-python",
   "name": "python",
   "nbconvert_exporter": "python",
   "pygments_lexer": "ipython3",
   "version": "3.7.3"
  }
 },
 "nbformat": 4,
 "nbformat_minor": 2
}
