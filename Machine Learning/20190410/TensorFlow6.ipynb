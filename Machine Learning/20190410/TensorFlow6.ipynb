{
 "cells": [
  {
   "cell_type": "code",
   "execution_count": 2,
   "metadata": {},
   "outputs": [
    {
     "name": "stdout",
     "output_type": "stream",
     "text": [
      "Extracting /home/nasir/dataRsrch/imageDBMain/MNIST/train-images-idx3-ubyte.gz\n",
      "Extracting /home/nasir/dataRsrch/imageDBMain/MNIST/train-labels-idx1-ubyte.gz\n",
      "Extracting /home/nasir/dataRsrch/imageDBMain/MNIST/t10k-images-idx3-ubyte.gz\n",
      "Extracting /home/nasir/dataRsrch/imageDBMain/MNIST/t10k-labels-idx1-ubyte.gz\n",
      "Training data size :  (55000, 784)\n",
      "Training label size:  (55000, 10)\n",
      "Epoch: 0001 cost= 33.69574 accuracy: 0.90800\n",
      "Epoch: 0011 cost= 1.15943 accuracy: 0.95690\n",
      "Epoch: 0021 cost= 0.43841 accuracy: 0.96300\n",
      "Optimization done...\n"
     ]
    },
    {
     "data": {
      "image/png": "[encoded data removed]",
      "text/plain": [
       "<Figure size 432x288 with 4 Axes>"
      ]
     },
     "metadata": {
      "needs_background": "light"
     },
     "output_type": "display_data"
    },
    {
     "data": {
      "image/png": "[encoded data removed]",
      "text/plain": [
       "<Figure size 432x288 with 1 Axes>"
      ]
     },
     "metadata": {
      "needs_background": "light"
     },
     "output_type": "display_data"
    }
   ],
   "source": [
    "import tensorflow as tf\n",
    "import numpy as np\n",
    "import matplotlib.pyplot as plt\n",
    "\n",
    "from tensorflow.examples.tutorials.mnist import input_data\n",
    "mnist = input_data.read_data_sets('/home/nasir/dataRsrch/imageDBMain/MNIST/', one_hot=True)\n",
    "\n",
    "rand_img = np.array([2500, 1001, 100, 500])\n",
    "for i in range(np.size(rand_img, 0)):\n",
    "    plt.subplot(1, 4, i+1); plt.axis('off')\n",
    "    plt.imshow(np.reshape(mnist.train.images[rand_img[i]], [28, 28]), cmap='gray')\n",
    "\n",
    "print('Training data size : ', mnist.train.images.shape)\n",
    "print('Training label size: ', mnist.train.labels.shape)\n",
    "#print(mnist.train.labels[rand_img])\n",
    "\n",
    "def multi_layer_perceptron_mnist(x, weights, biases):\n",
    "    hidden_layer1 = tf.add(tf.matmul(x, weights['w_h1']), biases['b_h1'])\n",
    "    hidden_layer1 = tf.nn.relu(hidden_layer1)\n",
    "    hidden_layer2 = tf.add(tf.matmul(hidden_layer1, weights['w_h2']), biases['b_h2'])\n",
    "    hidden_layer2 = tf.nn.relu(hidden_layer2)\n",
    "    out_layer = tf.add(tf.matmul(hidden_layer2, weights['w_out']), biases['b_out'])  # NO non-linearity in the output layer\n",
    "\n",
    "    return out_layer\n",
    "\n",
    "\n",
    "learning_rate = 0.01\n",
    "num_iter = 30\n",
    "batch_size = 100\n",
    "display_step = 10       \n",
    "\n",
    "# variables\n",
    "num_input = 784         \n",
    "num_hidden1 = 128      \n",
    "num_hidden2 = 256\n",
    "num_output = 10         \n",
    "\n",
    "x = tf.placeholder('float', [None, num_input])     # training data\n",
    "y = tf.placeholder('float', [None, num_output])    # labels\n",
    "\n",
    "# weights and biases\n",
    "weights = {\n",
    "    'w_h1' : tf.Variable(tf.random_normal([num_input, num_hidden1])),       # w1, from input layer to hidden layer 1\n",
    "    'w_h2' : tf.Variable(tf.random_normal([num_hidden1, num_hidden2])),     # w2, from hidden layer 1 to hidden layer 2\n",
    "    'w_out': tf.Variable(tf.random_normal([num_hidden2, num_output]))       # w3, from hidden layer 2 to output layer\n",
    "}\n",
    "biases = {\n",
    "    'b_h1' : tf.Variable(tf.random_normal([num_hidden1])),                  # b1, to hidden layer 1 units\n",
    "    'b_h2' : tf.Variable(tf.random_normal([num_hidden2])),\n",
    "    'b_out': tf.Variable(tf.random_normal([num_output]))\n",
    "}\n",
    "\n",
    "# construct the model\n",
    "model = multi_layer_perceptron_mnist(x, weights, biases)\n",
    "\n",
    "# cost function and optimization\n",
    "loss_func = tf.reduce_mean(tf.nn.softmax_cross_entropy_with_logits(logits=model, labels=y))\n",
    "optimizer = tf.train.AdamOptimizer(learning_rate=learning_rate).minimize(loss_func)\n",
    "\n",
    "#%% Train and test\n",
    "\n",
    "sess = tf.Session()\n",
    "init = tf.global_variables_initializer()\n",
    "sess.run(init)\n",
    "\n",
    "cost_all = np.array([])\n",
    "acc_all = np.array([])\n",
    "# Train the model\n",
    "for iter in range(num_iter):\n",
    "    avg_cost = 0.0\n",
    "    num_batch = int(mnist.train.num_examples / batch_size)   # total number of batches\n",
    "    for nB in range(num_batch):\n",
    "        trainData, trainLabels = mnist.train.next_batch(batch_size=batch_size)\n",
    "        tmp_cost, _ = sess.run([loss_func, optimizer], feed_dict={x: trainData, y: trainLabels})\n",
    "\n",
    "        avg_cost = avg_cost + tmp_cost / num_batch\n",
    "\n",
    "    correct_pred = tf.equal(tf.arg_max(model, 1), tf.arg_max(y, 1))\n",
    "    accuracy = tf.reduce_mean(tf.cast(correct_pred, 'float'))\n",
    "    acc = accuracy.eval(session=sess, feed_dict={x: mnist.test.images, y: mnist.test.labels})\n",
    "\n",
    "    if iter % display_step == 0:\n",
    "        print('Epoch: %04d' %(iter+1), 'cost= ' + \"{:.5f}\".format(avg_cost), 'accuracy: ' + \"{:.5f}\".format(acc))\n",
    "    cost_all = np.append(cost_all, avg_cost)\n",
    "    acc_all = np.append(acc_all, acc)\n",
    "\n",
    "print('Optimization done...')\n",
    "\n",
    "x_data = range(num_iter)\n",
    "plt.plot(x_data, cost_all, color='r')\n",
    "plt.xticks([0, 10, 20, 30]); plt.yticks([0, 10, 20, 30, 40])\n",
    "plt.show()\n",
    "\n",
    "plt.plot(x_data, acc_all)\n",
    "plt.xticks([0, 10, 20, 30]); plt.yticks([0.9, 0.95, 1.0])\n",
    "plt.show()\n",
    "\n",
    "#sess.close()"
   ]
  },
  {
   "cell_type": "code",
   "execution_count": null,
   "metadata": {},
   "outputs": [],
   "source": []
  }
 ],
 "metadata": {
  "kernelspec": {
   "display_name": "Python 3",
   "language": "python",
   "name": "python3"
  },
  "language_info": {
   "codemirror_mode": {
    "name": "ipython",
    "version": 3
   },
   "file_extension": ".py",
   "mimetype": "text/x-python",
   "name": "python",
   "nbconvert_exporter": "python",
   "pygments_lexer": "ipython3",
   "version": "3.7.3"
  }
 },
 "nbformat": 4,
 "nbformat_minor": 2
}
