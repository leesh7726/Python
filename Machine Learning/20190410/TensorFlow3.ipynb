{
 "cells": [
  {
   "cell_type": "code",
   "execution_count": 12,
   "metadata": {},
   "outputs": [],
   "source": [
    "#Logistic regression\n",
    "\n",
    "import tensorflow as tf\n",
    "\n",
    "xdata = [\n",
    "    [1,2],\n",
    "    [2,1],\n",
    "    [2,3],\n",
    "    [4,1],\n",
    "    [5,1],\n",
    "    [6,4]\n",
    "]\n",
    "ydata = [\n",
    "    [0],\n",
    "    [0],\n",
    "    [0],\n",
    "    [1],\n",
    "    [1],\n",
    "    [0]\n",
    "]\n",
    "\n",
    "X = tf.placeholder(tf.float32, shape=[None,2])\n",
    "Y = tf.placeholder(tf.float32, shape=[None,1])"
   ]
  },
  {
   "cell_type": "code",
   "execution_count": 13,
   "metadata": {},
   "outputs": [],
   "source": [
    "W = tf.Variable(tf.random_normal([2,1]), name = 'weight')\n",
    "b = tf.Variable(tf.random_normal([1]), name = 'bias')"
   ]
  },
  {
   "cell_type": "code",
   "execution_count": 14,
   "metadata": {},
   "outputs": [],
   "source": [
    "#Hypothesis sigmoid\n",
    "hypothesis = tf.sigmoid(tf.matmul(X,W) + b)\n",
    "cost = -tf.reduce_mean(Y * tf.log(hypothesis) + (1-Y) *tf.log(1 - hypothesis))\n",
    "train = tf.train.GradientDescentOptimizer(learning_rate=0.01).minimize(cost)"
   ]
  },
  {
   "cell_type": "code",
   "execution_count": 15,
   "metadata": {},
   "outputs": [],
   "source": [
    "predicted = tf.cast(hypothesis > 0.5 , dtype=tf.float32)\n",
    "# h >= 0.5 => 1, h <0.5 => 0\n",
    "accuracy = tf.reduce_mean(tf.cast(tf.equal(predicted, Y), dtype=tf.float32))"
   ]
  },
  {
   "cell_type": "code",
   "execution_count": 16,
   "metadata": {},
   "outputs": [
    {
     "name": "stdout",
     "output_type": "stream",
     "text": [
      "0 2.925628\n",
      "200 0.87218046\n",
      "400 0.43501738\n",
      "600 0.29365346\n",
      "800 0.22956063\n",
      "1000 0.1931086\n",
      "1200 0.16934796\n",
      "1400 0.15242831\n",
      "1600 0.13961959\n",
      "1800 0.12948261\n"
     ]
    }
   ],
   "source": [
    "sess = tf.Session()\n",
    "sess.run(tf.global_variables_initializer())\n",
    "for s in range(2000):\n",
    "    cost_val, _ = sess.run([cost,train], feed_dict= {X:xdata, Y:ydata})\n",
    "    if s %200 ==0:\n",
    "        print(s,cost_val)\n",
    "    "
   ]
  },
  {
   "cell_type": "code",
   "execution_count": null,
   "metadata": {},
   "outputs": [],
   "source": []
  }
 ],
 "metadata": {
  "kernelspec": {
   "display_name": "Python 3",
   "language": "python",
   "name": "python3"
  },
  "language_info": {
   "codemirror_mode": {
    "name": "ipython",
    "version": 3
   },
   "file_extension": ".py",
   "mimetype": "text/x-python",
   "name": "python",
   "nbconvert_exporter": "python",
   "pygments_lexer": "ipython3",
   "version": "3.7.3"
  }
 },
 "nbformat": 4,
 "nbformat_minor": 2
}
