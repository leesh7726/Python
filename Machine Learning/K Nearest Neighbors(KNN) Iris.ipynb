{
 "cells": [
  {
   "cell_type": "code",
   "execution_count": 1,
   "metadata": {},
   "outputs": [],
   "source": [
    "import pandas as pd\n",
    "import numpy as np\n",
    "import matplotlib.pyplot as plt\n",
    "from sklearn import neighbors, datasets"
   ]
  },
  {
   "cell_type": "code",
   "execution_count": 4,
   "metadata": {},
   "outputs": [],
   "source": [
    "iris = datasets.load_iris()\n"
   ]
  },
  {
   "cell_type": "code",
   "execution_count": 10,
   "metadata": {},
   "outputs": [
    {
     "data": {
      "text/plain": [
       "((150, 4), (150,))"
      ]
     },
     "execution_count": 10,
     "metadata": {},
     "output_type": "execute_result"
    }
   ],
   "source": [
    "type(iris)\n",
    "type(iris.data)\n",
    "iris.data.shape, iris.target.shape\n"
   ]
  },
  {
   "cell_type": "code",
   "execution_count": 25,
   "metadata": {},
   "outputs": [
    {
     "data": {
      "text/plain": [
       "(array([[5.1, 3.5],\n",
       "        [4.9, 3. ],\n",
       "        [4.7, 3.2],\n",
       "        [4.6, 3.1],\n",
       "        [5. , 3.6],\n",
       "        [5.4, 3.9],\n",
       "        [4.6, 3.4],\n",
       "        [5. , 3.4],\n",
       "        [4.4, 2.9],\n",
       "        [4.9, 3.1],\n",
       "        [5.4, 3.7],\n",
       "        [4.8, 3.4],\n",
       "        [4.8, 3. ],\n",
       "        [4.3, 3. ],\n",
       "        [5.8, 4. ],\n",
       "        [5.7, 4.4],\n",
       "        [5.4, 3.9],\n",
       "        [5.1, 3.5],\n",
       "        [5.7, 3.8],\n",
       "        [5.1, 3.8],\n",
       "        [5.4, 3.4],\n",
       "        [5.1, 3.7],\n",
       "        [4.6, 3.6],\n",
       "        [5.1, 3.3],\n",
       "        [4.8, 3.4],\n",
       "        [5. , 3. ],\n",
       "        [5. , 3.4],\n",
       "        [5.2, 3.5],\n",
       "        [5.2, 3.4],\n",
       "        [4.7, 3.2],\n",
       "        [4.8, 3.1],\n",
       "        [5.4, 3.4],\n",
       "        [5.2, 4.1],\n",
       "        [5.5, 4.2],\n",
       "        [4.9, 3.1],\n",
       "        [5. , 3.2],\n",
       "        [5.5, 3.5],\n",
       "        [4.9, 3.6],\n",
       "        [4.4, 3. ],\n",
       "        [5.1, 3.4],\n",
       "        [5. , 3.5],\n",
       "        [4.5, 2.3],\n",
       "        [4.4, 3.2],\n",
       "        [5. , 3.5],\n",
       "        [5.1, 3.8],\n",
       "        [4.8, 3. ],\n",
       "        [5.1, 3.8],\n",
       "        [4.6, 3.2],\n",
       "        [5.3, 3.7],\n",
       "        [5. , 3.3],\n",
       "        [7. , 3.2],\n",
       "        [6.4, 3.2],\n",
       "        [6.9, 3.1],\n",
       "        [5.5, 2.3],\n",
       "        [6.5, 2.8],\n",
       "        [5.7, 2.8],\n",
       "        [6.3, 3.3],\n",
       "        [4.9, 2.4],\n",
       "        [6.6, 2.9],\n",
       "        [5.2, 2.7],\n",
       "        [5. , 2. ],\n",
       "        [5.9, 3. ],\n",
       "        [6. , 2.2],\n",
       "        [6.1, 2.9],\n",
       "        [5.6, 2.9],\n",
       "        [6.7, 3.1],\n",
       "        [5.6, 3. ],\n",
       "        [5.8, 2.7],\n",
       "        [6.2, 2.2],\n",
       "        [5.6, 2.5],\n",
       "        [5.9, 3.2],\n",
       "        [6.1, 2.8],\n",
       "        [6.3, 2.5],\n",
       "        [6.1, 2.8],\n",
       "        [6.4, 2.9],\n",
       "        [6.6, 3. ],\n",
       "        [6.8, 2.8],\n",
       "        [6.7, 3. ],\n",
       "        [6. , 2.9],\n",
       "        [5.7, 2.6],\n",
       "        [5.5, 2.4],\n",
       "        [5.5, 2.4],\n",
       "        [5.8, 2.7],\n",
       "        [6. , 2.7],\n",
       "        [5.4, 3. ],\n",
       "        [6. , 3.4],\n",
       "        [6.7, 3.1],\n",
       "        [6.3, 2.3],\n",
       "        [5.6, 3. ],\n",
       "        [5.5, 2.5],\n",
       "        [5.5, 2.6],\n",
       "        [6.1, 3. ],\n",
       "        [5.8, 2.6],\n",
       "        [5. , 2.3],\n",
       "        [5.6, 2.7],\n",
       "        [5.7, 3. ],\n",
       "        [5.7, 2.9],\n",
       "        [6.2, 2.9],\n",
       "        [5.1, 2.5],\n",
       "        [5.7, 2.8],\n",
       "        [6.3, 3.3],\n",
       "        [5.8, 2.7],\n",
       "        [7.1, 3. ],\n",
       "        [6.3, 2.9],\n",
       "        [6.5, 3. ],\n",
       "        [7.6, 3. ],\n",
       "        [4.9, 2.5],\n",
       "        [7.3, 2.9],\n",
       "        [6.7, 2.5],\n",
       "        [7.2, 3.6],\n",
       "        [6.5, 3.2],\n",
       "        [6.4, 2.7],\n",
       "        [6.8, 3. ],\n",
       "        [5.7, 2.5],\n",
       "        [5.8, 2.8],\n",
       "        [6.4, 3.2],\n",
       "        [6.5, 3. ],\n",
       "        [7.7, 3.8],\n",
       "        [7.7, 2.6],\n",
       "        [6. , 2.2],\n",
       "        [6.9, 3.2],\n",
       "        [5.6, 2.8],\n",
       "        [7.7, 2.8],\n",
       "        [6.3, 2.7],\n",
       "        [6.7, 3.3],\n",
       "        [7.2, 3.2],\n",
       "        [6.2, 2.8],\n",
       "        [6.1, 3. ],\n",
       "        [6.4, 2.8],\n",
       "        [7.2, 3. ],\n",
       "        [7.4, 2.8],\n",
       "        [7.9, 3.8],\n",
       "        [6.4, 2.8],\n",
       "        [6.3, 2.8],\n",
       "        [6.1, 2.6],\n",
       "        [7.7, 3. ],\n",
       "        [6.3, 3.4],\n",
       "        [6.4, 3.1],\n",
       "        [6. , 3. ],\n",
       "        [6.9, 3.1],\n",
       "        [6.7, 3.1],\n",
       "        [6.9, 3.1],\n",
       "        [5.8, 2.7],\n",
       "        [6.8, 3.2],\n",
       "        [6.7, 3.3],\n",
       "        [6.7, 3. ],\n",
       "        [6.3, 2.5],\n",
       "        [6.5, 3. ],\n",
       "        [6.2, 3.4],\n",
       "        [5.9, 3. ]]),\n",
       " array([0, 0, 0, 0, 0, 0, 0, 0, 0, 0, 0, 0, 0, 0, 0, 0, 0, 0, 0, 0, 0, 0,\n",
       "        0, 0, 0, 0, 0, 0, 0, 0, 0, 0, 0, 0, 0, 0, 0, 0, 0, 0, 0, 0, 0, 0,\n",
       "        0, 0, 0, 0, 0, 0, 1, 1, 1, 1, 1, 1, 1, 1, 1, 1, 1, 1, 1, 1, 1, 1,\n",
       "        1, 1, 1, 1, 1, 1, 1, 1, 1, 1, 1, 1, 1, 1, 1, 1, 1, 1, 1, 1, 1, 1,\n",
       "        1, 1, 1, 1, 1, 1, 1, 1, 1, 1, 1, 1, 2, 2, 2, 2, 2, 2, 2, 2, 2, 2,\n",
       "        2, 2, 2, 2, 2, 2, 2, 2, 2, 2, 2, 2, 2, 2, 2, 2, 2, 2, 2, 2, 2, 2,\n",
       "        2, 2, 2, 2, 2, 2, 2, 2, 2, 2, 2, 2, 2, 2, 2, 2, 2, 2]))"
      ]
     },
     "execution_count": 25,
     "metadata": {},
     "output_type": "execute_result"
    }
   ],
   "source": [
    "x = iris.data[:,:2]\n",
    "y = iris.target"
   ]
  },
  {
   "cell_type": "code",
   "execution_count": 21,
   "metadata": {
    "scrolled": true
   },
   "outputs": [
    {
     "data": {
      "image/png": "[encoded data removed]",
      "text/plain": [
       "<Figure size 432x288 with 1 Axes>"
      ]
     },
     "metadata": {
      "needs_background": "light"
     },
     "output_type": "display_data"
    }
   ],
   "source": [
    "plt.figure()\n",
    "plt.scatter(x[:,0],x[:,1]) # 0:sepal.length 1:sepal.width\n",
    "plt.ylabel(\"sepal.width\")\n",
    "plt.xlabel(\"sepal.length\")\n",
    "plt.show()\n"
   ]
  },
  {
   "cell_type": "code",
   "execution_count": 23,
   "metadata": {},
   "outputs": [
    {
     "data": {
      "text/plain": [
       "array([2])"
      ]
     },
     "execution_count": 23,
     "metadata": {},
     "output_type": "execute_result"
    }
   ],
   "source": [
    "k = 6\n",
    "nn = neighbors.KNeighborsClassifier(k,weights=\"distance\")\n",
    "nn.fit(x,y)\n",
    "nn.predict([[7,3]]) # 0 : Setosa, 1: Versicolour, 2:Virginica"
   ]
  },
  {
   "cell_type": "code",
   "execution_count": null,
   "metadata": {},
   "outputs": [],
   "source": [
    "\n",
    "\n",
    "\n"
   ]
  },
  {
   "cell_type": "code",
   "execution_count": null,
   "metadata": {},
   "outputs": [],
   "source": []
  }
 ],
 "metadata": {
  "kernelspec": {
   "display_name": "Python 3",
   "language": "python",
   "name": "python3"
  },
  "language_info": {
   "codemirror_mode": {
    "name": "ipython",
    "version": 3
   },
   "file_extension": ".py",
   "mimetype": "text/x-python",
   "name": "python",
   "nbconvert_exporter": "python",
   "pygments_lexer": "ipython3",
   "version": "3.7.1"
  }
 },
 "nbformat": 4,
 "nbformat_minor": 2
}
