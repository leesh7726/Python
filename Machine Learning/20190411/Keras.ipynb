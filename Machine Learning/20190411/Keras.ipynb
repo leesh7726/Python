{
 "cells": [
  {
   "cell_type": "code",
   "execution_count": 1,
   "metadata": {
    "collapsed": true
   },
   "outputs": [
    {
     "name": "stdout",
     "output_type": "stream",
     "text": [
      "Collecting keras\n",
      "  Using cached https://files.pythonhosted.org/packages/5e/10/aa32dad071ce52b5502266b5c659451cfd6ffcbf14e6c8c4f16c0ff5aaab/Keras-2.2.4-py2.py3-none-any.whl\n",
      "Collecting scipy>=0.14 (from keras)\n",
      "  Downloading https://files.pythonhosted.org/packages/58/f0/d00c0e01e077da883f030af3ff5ce653a0e9e4786f83faa89a6e18c98612/scipy-1.2.1-cp37-cp37m-win_amd64.whl (30.0MB)\n",
      "Collecting pyyaml (from keras)\n",
      "  Downloading https://files.pythonhosted.org/packages/b6/74/c3e15707516f80192059dde32c9d78f00a88c9f3c4d1efd76cbc8d5b0a20/PyYAML-5.1-cp37-cp37m-win_amd64.whl (215kB)\n",
      "Requirement already satisfied: six>=1.9.0 in c:\\users\\administrator\\appdata\\roaming\\python\\python37\\site-packages (from keras) (1.12.0)\n",
      "Requirement already satisfied: keras-preprocessing>=1.0.5 in c:\\users\\administrator\\anaconda3\\envs\\tensorflow\\lib\\site-packages (from keras) (1.0.9)\n",
      "Requirement already satisfied: h5py in c:\\users\\administrator\\anaconda3\\envs\\tensorflow\\lib\\site-packages (from keras) (2.9.0)\n",
      "Requirement already satisfied: numpy>=1.9.1 in c:\\users\\administrator\\anaconda3\\envs\\tensorflow\\lib\\site-packages (from keras) (1.16.2)\n",
      "Requirement already satisfied: keras-applications>=1.0.6 in c:\\users\\administrator\\anaconda3\\envs\\tensorflow\\lib\\site-packages (from keras) (1.0.7)\n",
      "Installing collected packages: scipy, pyyaml, keras\n",
      "Successfully installed keras-2.2.4 pyyaml-5.1 scipy-1.2.1\n"
     ]
    }
   ],
   "source": [
    "!pip install keras"
   ]
  },
  {
   "cell_type": "code",
   "execution_count": 2,
   "metadata": {},
   "outputs": [
    {
     "name": "stderr",
     "output_type": "stream",
     "text": [
      "Using TensorFlow backend.\n"
     ]
    }
   ],
   "source": [
    "import keras\n",
    "from keras.models import Sequential\n",
    "from keras.layers import Dense, Activation\n",
    "import numpy as np\n",
    "import matplotlib.pyplot as plt\n",
    "#data load, preprocessing"
   ]
  },
  {
   "cell_type": "code",
   "execution_count": 3,
   "metadata": {
    "scrolled": true
   },
   "outputs": [
    {
     "data": {
      "text/plain": [
       "<matplotlib.collections.PathCollection at 0x1bb4fd87fd0>"
      ]
     },
     "execution_count": 3,
     "metadata": {},
     "output_type": "execute_result"
    },
    {
     "data": {
      "image/png": "[encoded data removed]",
      "text/plain": [
       "<Figure size 432x288 with 1 Axes>"
      ]
     },
     "metadata": {
      "needs_background": "light"
     },
     "output_type": "display_data"
    }
   ],
   "source": [
    "x = np.linspace(1,2,200)\n",
    "y = x*4 + np.random.randn(*x.shape) * 0.3\n",
    "plt.scatter(x,y)"
   ]
  },
  {
   "cell_type": "code",
   "execution_count": 4,
   "metadata": {},
   "outputs": [
    {
     "name": "stdout",
     "output_type": "stream",
     "text": [
      "WARNING:tensorflow:From c:\\users\\administrator\\anaconda3\\envs\\tensorflow\\lib\\site-packages\\tensorflow\\python\\framework\\op_def_library.py:263: colocate_with (from tensorflow.python.framework.ops) is deprecated and will be removed in a future version.\n",
      "Instructions for updating:\n",
      "Colocations handled automatically by placer.\n"
     ]
    }
   ],
   "source": [
    "model = Sequential()\n",
    "model.add(Dense(1,input_dim=1, activation = 'linear'))"
   ]
  },
  {
   "cell_type": "code",
   "execution_count": 5,
   "metadata": {},
   "outputs": [],
   "source": [
    "model.compile(optimizer='sgd', loss = 'mse', metrics=['mse'])\n",
    "# MSE(Mean Square Error) = 평균 오차의 제곱"
   ]
  },
  {
   "cell_type": "code",
   "execution_count": 7,
   "metadata": {},
   "outputs": [],
   "source": [
    "weights = model.layers[0].get_weights()\n",
    "# w_init = weights[0][0][0]"
   ]
  },
  {
   "cell_type": "code",
   "execution_count": 8,
   "metadata": {},
   "outputs": [
    {
     "data": {
      "text/plain": [
       "(1.1947261, 0.0)"
      ]
     },
     "execution_count": 8,
     "metadata": {},
     "output_type": "execute_result"
    }
   ],
   "source": [
    "w_init = weights[0][0][0]\n",
    "b_init = weights[1][0]\n",
    "w_init, b_init"
   ]
  },
  {
   "cell_type": "code",
   "execution_count": 10,
   "metadata": {
    "collapsed": true
   },
   "outputs": [
    {
     "name": "stdout",
     "output_type": "stream",
     "text": [
      "WARNING:tensorflow:From c:\\users\\administrator\\anaconda3\\envs\\tensorflow\\lib\\site-packages\\tensorflow\\python\\ops\\math_ops.py:3066: to_int32 (from tensorflow.python.ops.math_ops) is deprecated and will be removed in a future version.\n",
      "Instructions for updating:\n",
      "Use tf.cast instead.\n",
      "Epoch 1/30\n",
      "200/200 [==============================] - 0s 2ms/step - loss: 0.8784 - mean_squared_error: 0.8784\n",
      "Epoch 2/30\n",
      "200/200 [==============================] - 0s 594us/step - loss: 0.1229 - mean_squared_error: 0.1229\n",
      "Epoch 3/30\n",
      "200/200 [==============================] - 0s 550us/step - loss: 0.1184 - mean_squared_error: 0.1184\n",
      "Epoch 4/30\n",
      "200/200 [==============================] - 0s 530us/step - loss: 0.1102 - mean_squared_error: 0.1102\n",
      "Epoch 5/30\n",
      "200/200 [==============================] - 0s 540us/step - loss: 0.1064 - mean_squared_error: 0.1064\n",
      "Epoch 6/30\n",
      "200/200 [==============================] - 0s 530us/step - loss: 0.0974 - mean_squared_error: 0.0974\n",
      "Epoch 7/30\n",
      "200/200 [==============================] - 0s 550us/step - loss: 0.0990 - mean_squared_error: 0.0990\n",
      "Epoch 8/30\n",
      "200/200 [==============================] - 0s 545us/step - loss: 0.0950 - mean_squared_error: 0.0950\n",
      "Epoch 9/30\n",
      "200/200 [==============================] - 0s 545us/step - loss: 0.0944 - mean_squared_error: 0.0944\n",
      "Epoch 10/30\n",
      "200/200 [==============================] - 0s 530us/step - loss: 0.0928 - mean_squared_error: 0.0928\n",
      "Epoch 11/30\n",
      "200/200 [==============================] - 0s 535us/step - loss: 0.0917 - mean_squared_error: 0.0917\n",
      "Epoch 12/30\n",
      "200/200 [==============================] - 0s 517us/step - loss: 0.0896 - mean_squared_error: 0.0896\n",
      "Epoch 13/30\n",
      "200/200 [==============================] - 0s 566us/step - loss: 0.0896 - mean_squared_error: 0.0896\n",
      "Epoch 14/30\n",
      "200/200 [==============================] - 0s 530us/step - loss: 0.0883 - mean_squared_error: 0.0883\n",
      "Epoch 15/30\n",
      "200/200 [==============================] - 0s 532us/step - loss: 0.0882 - mean_squared_error: 0.0882\n",
      "Epoch 16/30\n",
      "200/200 [==============================] - 0s 535us/step - loss: 0.0843 - mean_squared_error: 0.0843\n",
      "Epoch 17/30\n",
      "200/200 [==============================] - 0s 535us/step - loss: 0.0877 - mean_squared_error: 0.0877\n",
      "Epoch 18/30\n",
      "200/200 [==============================] - 0s 540us/step - loss: 0.0841 - mean_squared_error: 0.0841\n",
      "Epoch 19/30\n",
      "200/200 [==============================] - 0s 494us/step - loss: 0.0884 - mean_squared_error: 0.0884\n",
      "Epoch 20/30\n",
      "200/200 [==============================] - 0s 569us/step - loss: 0.0830 - mean_squared_error: 0.0830\n",
      "Epoch 21/30\n",
      "200/200 [==============================] - 0s 508us/step - loss: 0.0855 - mean_squared_error: 0.0855\n",
      "Epoch 22/30\n",
      "200/200 [==============================] - 0s 543us/step - loss: 0.0855 - mean_squared_error: 0.0855\n",
      "Epoch 23/30\n",
      "200/200 [==============================] - 0s 456us/step - loss: 0.0860 - mean_squared_error: 0.0860\n",
      "Epoch 24/30\n",
      "200/200 [==============================] - 0s 591us/step - loss: 0.0857 - mean_squared_error: 0.0857\n",
      "Epoch 25/30\n",
      "200/200 [==============================] - 0s 491us/step - loss: 0.0830 - mean_squared_error: 0.0830\n",
      "Epoch 26/30\n",
      "200/200 [==============================] - 0s 557us/step - loss: 0.0868 - mean_squared_error: 0.0868\n",
      "Epoch 27/30\n",
      "200/200 [==============================] - 0s 530us/step - loss: 0.0850 - mean_squared_error: 0.0850\n",
      "Epoch 28/30\n",
      "200/200 [==============================] - 0s 486us/step - loss: 0.0848 - mean_squared_error: 0.0848\n",
      "Epoch 29/30\n",
      "200/200 [==============================] - 0s 575us/step - loss: 0.0837 - mean_squared_error: 0.0837\n",
      "Epoch 30/30\n",
      "200/200 [==============================] - 0s 499us/step - loss: 0.0850 - mean_squared_error: 0.0850\n"
     ]
    },
    {
     "data": {
      "text/plain": [
       "<keras.callbacks.History at 0x1bb530880f0>"
      ]
     },
     "execution_count": 10,
     "metadata": {},
     "output_type": "execute_result"
    }
   ],
   "source": [
    "model.fit(x,y,batch_size=1, epochs = 30, shuffle=True)"
   ]
  },
  {
   "cell_type": "code",
   "execution_count": 12,
   "metadata": {
    "collapsed": true
   },
   "outputs": [
    {
     "data": {
      "text/plain": [
       "array([[3.9930406],\n",
       "       [4.012741 ],\n",
       "       [4.032441 ],\n",
       "       [4.052141 ],\n",
       "       [4.0718412],\n",
       "       [4.0915413],\n",
       "       [4.111242 ],\n",
       "       [4.130942 ],\n",
       "       [4.1506414],\n",
       "       [4.170342 ],\n",
       "       [4.190042 ],\n",
       "       [4.2097425],\n",
       "       [4.2294426],\n",
       "       [4.249143 ],\n",
       "       [4.2688427],\n",
       "       [4.2885427],\n",
       "       [4.3082433],\n",
       "       [4.3279433],\n",
       "       [4.347644 ],\n",
       "       [4.3673434],\n",
       "       [4.387044 ],\n",
       "       [4.406744 ],\n",
       "       [4.4264445],\n",
       "       [4.4461446],\n",
       "       [4.465844 ],\n",
       "       [4.4855447],\n",
       "       [4.5052447],\n",
       "       [4.5249453],\n",
       "       [4.5446453],\n",
       "       [4.5643454],\n",
       "       [4.5840454],\n",
       "       [4.6037455],\n",
       "       [4.623446 ],\n",
       "       [4.643146 ],\n",
       "       [4.6628466],\n",
       "       [4.682546 ],\n",
       "       [4.7022467],\n",
       "       [4.7219467],\n",
       "       [4.741647 ],\n",
       "       [4.7613473],\n",
       "       [4.781047 ],\n",
       "       [4.8007474],\n",
       "       [4.8204474],\n",
       "       [4.840148 ],\n",
       "       [4.859848 ],\n",
       "       [4.8795476],\n",
       "       [4.899248 ],\n",
       "       [4.918948 ],\n",
       "       [4.9386487],\n",
       "       [4.9583488],\n",
       "       [4.978049 ],\n",
       "       [4.997749 ],\n",
       "       [5.017449 ],\n",
       "       [5.0371494],\n",
       "       [5.0568495],\n",
       "       [5.0765495],\n",
       "       [5.0962496],\n",
       "       [5.11595  ],\n",
       "       [5.13565  ],\n",
       "       [5.15535  ],\n",
       "       [5.1750507],\n",
       "       [5.1947503],\n",
       "       [5.214451 ],\n",
       "       [5.234151 ],\n",
       "       [5.2538514],\n",
       "       [5.2735515],\n",
       "       [5.2932515],\n",
       "       [5.3129516],\n",
       "       [5.3326516],\n",
       "       [5.352352 ],\n",
       "       [5.372052 ],\n",
       "       [5.3917522],\n",
       "       [5.4114523],\n",
       "       [5.431153 ],\n",
       "       [5.450853 ],\n",
       "       [5.470553 ],\n",
       "       [5.490253 ],\n",
       "       [5.509953 ],\n",
       "       [5.5296535],\n",
       "       [5.5493536],\n",
       "       [5.569054 ],\n",
       "       [5.588754 ],\n",
       "       [5.6084538],\n",
       "       [5.6281543],\n",
       "       [5.6478543],\n",
       "       [5.667555 ],\n",
       "       [5.687255 ],\n",
       "       [5.706955 ],\n",
       "       [5.726655 ],\n",
       "       [5.746355 ],\n",
       "       [5.7660556],\n",
       "       [5.7857556],\n",
       "       [5.8054557],\n",
       "       [5.8251557],\n",
       "       [5.8448563],\n",
       "       [5.8645563],\n",
       "       [5.8842564],\n",
       "       [5.9039564],\n",
       "       [5.9236565],\n",
       "       [5.943357 ],\n",
       "       [5.963057 ],\n",
       "       [5.9827576],\n",
       "       [6.0024576],\n",
       "       [6.0221577],\n",
       "       [6.0418577],\n",
       "       [6.061558 ],\n",
       "       [6.0812583],\n",
       "       [6.1009583],\n",
       "       [6.1206584],\n",
       "       [6.1403584],\n",
       "       [6.160059 ],\n",
       "       [6.179759 ],\n",
       "       [6.199459 ],\n",
       "       [6.219159 ],\n",
       "       [6.238859 ],\n",
       "       [6.2585597],\n",
       "       [6.2782598],\n",
       "       [6.2979603],\n",
       "       [6.31766  ],\n",
       "       [6.33736  ],\n",
       "       [6.3570604],\n",
       "       [6.3767605],\n",
       "       [6.396461 ],\n",
       "       [6.416161 ],\n",
       "       [6.435861 ],\n",
       "       [6.455561 ],\n",
       "       [6.475261 ],\n",
       "       [6.4949617],\n",
       "       [6.514662 ],\n",
       "       [6.534362 ],\n",
       "       [6.554062 ],\n",
       "       [6.5737624],\n",
       "       [6.5934625],\n",
       "       [6.6131625],\n",
       "       [6.6328626],\n",
       "       [6.6525626],\n",
       "       [6.672263 ],\n",
       "       [6.691963 ],\n",
       "       [6.7116637],\n",
       "       [6.7313633],\n",
       "       [6.751064 ],\n",
       "       [6.770764 ],\n",
       "       [6.790464 ],\n",
       "       [6.8101645],\n",
       "       [6.8298645],\n",
       "       [6.8495646],\n",
       "       [6.8692646],\n",
       "       [6.888965 ],\n",
       "       [6.908665 ],\n",
       "       [6.928365 ],\n",
       "       [6.9480653],\n",
       "       [6.9677653],\n",
       "       [6.987466 ],\n",
       "       [7.007166 ],\n",
       "       [7.0268664],\n",
       "       [7.046566 ],\n",
       "       [7.066266 ],\n",
       "       [7.0859666],\n",
       "       [7.1056666],\n",
       "       [7.125367 ],\n",
       "       [7.1450667],\n",
       "       [7.1647673],\n",
       "       [7.1844673],\n",
       "       [7.2041674],\n",
       "       [7.223868 ],\n",
       "       [7.2435675],\n",
       "       [7.263268 ],\n",
       "       [7.282968 ],\n",
       "       [7.3026686],\n",
       "       [7.3223686],\n",
       "       [7.3420687],\n",
       "       [7.3617687],\n",
       "       [7.381469 ],\n",
       "       [7.4011693],\n",
       "       [7.4208694],\n",
       "       [7.44057  ],\n",
       "       [7.4602695],\n",
       "       [7.4799695],\n",
       "       [7.49967  ],\n",
       "       [7.51937  ],\n",
       "       [7.5390706],\n",
       "       [7.55877  ],\n",
       "       [7.5784707],\n",
       "       [7.5981708],\n",
       "       [7.6178713],\n",
       "       [7.6375713],\n",
       "       [7.657271 ],\n",
       "       [7.6769714],\n",
       "       [7.6966715],\n",
       "       [7.716372 ],\n",
       "       [7.736072 ],\n",
       "       [7.7557726],\n",
       "       [7.775472 ],\n",
       "       [7.795172 ],\n",
       "       [7.8148727],\n",
       "       [7.834573 ],\n",
       "       [7.8542733],\n",
       "       [7.873973 ],\n",
       "       [7.8936734],\n",
       "       [7.9133735]], dtype=float32)"
      ]
     },
     "execution_count": 12,
     "metadata": {},
     "output_type": "execute_result"
    }
   ],
   "source": [
    "predict = model.predict(x)\n",
    "predict"
   ]
  },
  {
   "cell_type": "code",
   "execution_count": 25,
   "metadata": {},
   "outputs": [
    {
     "data": {
      "image/png": "[encoded data removed]",
      "text/plain": [
       "<Figure size 432x288 with 1 Axes>"
      ]
     },
     "metadata": {
      "needs_background": "light"
     },
     "output_type": "display_data"
    }
   ],
   "source": [
    "plt.plot(x,predict, 'b', x ,y, 'k.')\n",
    "plt.show()"
   ]
  },
  {
   "cell_type": "code",
   "execution_count": 28,
   "metadata": {},
   "outputs": [
    {
     "data": {
      "image/png": "[encoded data removed]",
      "text/plain": [
       "<Figure size 432x288 with 1 Axes>"
      ]
     },
     "metadata": {
      "needs_background": "light"
     },
     "output_type": "display_data"
    }
   ],
   "source": [
    "plt.plot( x ,y, 'k.')\n",
    "plt.show()"
   ]
  },
  {
   "cell_type": "code",
   "execution_count": null,
   "metadata": {},
   "outputs": [],
   "source": []
  }
 ],
 "metadata": {
  "kernelspec": {
   "display_name": "Python 3",
   "language": "python",
   "name": "python3"
  },
  "language_info": {
   "codemirror_mode": {
    "name": "ipython",
    "version": 3
   },
   "file_extension": ".py",
   "mimetype": "text/x-python",
   "name": "python",
   "nbconvert_exporter": "python",
   "pygments_lexer": "ipython3",
   "version": "3.7.3"
  }
 },
 "nbformat": 4,
 "nbformat_minor": 2
}
