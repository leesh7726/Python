{
 "cells": [
  {
   "cell_type": "code",
   "execution_count": 2,
   "metadata": {},
   "outputs": [
    {
     "name": "stdout",
     "output_type": "stream",
     "text": [
      "첫번째 수 입력5\n",
      "두번째 수 입력10\n",
      "5 + 10 = 15\n",
      "5 - 10 = -5\n",
      "5 * 10 = 50\n",
      "5 / 10 = 0.5\n"
     ]
    }
   ],
   "source": [
    "\n",
    "def add(a,b):\n",
    "    print(a, \"+\" ,b , \"=\", a+b)\n",
    "def sub(a,b):\n",
    "    print(a, \"-\" ,b , \"=\", a-b)\n",
    "def mul(a,b):\n",
    "    print(a, \"*\" ,b , \"=\", a*b)\n",
    "def div(a,b):\n",
    "    print(a, \"/\" ,b , \"=\", a/b)\n",
    "a = int(input(\"첫번째 수 입력\"))\n",
    "b = int(input(\"두번째 수 입력\"))\n",
    "\n",
    "add(a,b)\n",
    "sub(a,b)\n",
    "mul(a,b)\n",
    "div(a,b)\n"
   ]
  }
 ],
 "metadata": {
  "kernelspec": {
   "display_name": "Python 3",
   "language": "python",
   "name": "python3"
  },
  "language_info": {
   "codemirror_mode": {
    "name": "ipython",
    "version": 3
   },
   "file_extension": ".py",
   "mimetype": "text/x-python",
   "name": "python",
   "nbconvert_exporter": "python",
   "pygments_lexer": "ipython3",
   "version": "3.7.1"
  }
 },
 "nbformat": 4,
 "nbformat_minor": 2
}
