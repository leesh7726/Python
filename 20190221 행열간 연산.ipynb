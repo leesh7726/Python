{
 "cells": [
  {
   "cell_type": "code",
   "execution_count": 11,
   "metadata": {},
   "outputs": [
    {
     "name": "stdout",
     "output_type": "stream",
     "text": [
      "[[1. 2.]\n",
      " [3. 4.]]\n",
      "\n",
      "[[5. 6.]\n",
      " [7. 8.]]\n",
      "\n",
      "[[ 6.  8.]\n",
      " [10. 12.]]\n",
      "\n",
      "[[ 6.  8.]\n",
      " [10. 12.]]\n",
      "\n",
      "[[-4. -4.]\n",
      " [-4. -4.]]\n",
      "[[-4. -4.]\n",
      " [-4. -4.]]\n",
      "\n",
      "[[0.2        0.33333333]\n",
      " [0.42857143 0.5       ]]\n",
      "[[0.2        0.33333333]\n",
      " [0.42857143 0.5       ]]\n",
      "\n",
      "[[1.         1.41421356]\n",
      " [1.73205081 2.        ]]\n",
      "\n",
      "10.0\n",
      "[4. 6.]\n",
      "[3. 7.]\n"
     ]
    }
   ],
   "source": [
    "import numpy as np\n",
    "x = np.array(([1,2],[3,4]), dtype = np.float)\n",
    "y = np.array(([5,6],[7,8]), dtype = np.float)\n",
    "\n",
    "print(x)\n",
    "print()\n",
    "\n",
    "print(y)\n",
    "print()\n",
    "\n",
    "print(x + y)\n",
    "print()\n",
    "\n",
    "print(np.add(x,y))\n",
    "print()\n",
    "\n",
    "print(x-y)\n",
    "print(np.subtract(x,y))\n",
    "print()\n",
    "\n",
    "print(x/y)\n",
    "print(np.divide(x,y))\n",
    "print()\n",
    "\n",
    "print(np.sqrt(x)) # root\n",
    "print()\n",
    "\n",
    "print(np.sum(x))\n",
    "print(np.sum(x, axis=0)) # 행 기준\n",
    "print(np.sum(x, axis=1)) # 열 기준"
   ]
  },
  {
   "cell_type": "code",
   "execution_count": null,
   "metadata": {},
   "outputs": [],
   "source": [
    "# print(x)\n",
    "print()\n",
    "\n",
    "print(x.T) #행 열 바꿔서 출력\n",
    "print()\n",
    "\n",
    "z = np.array(([[1,2],[3,4],[5,6]]))\n",
    "print(z.shape)\n",
    "print()\n",
    "\n",
    "print(z)\n",
    "print()\n",
    "\n",
    "print(z.T)\n",
    "print()\n",
    "\n",
    "print(z.T.shape)\n",
    "print()"
   ]
  },
  {
   "cell_type": "code",
   "execution_count": 17,
   "metadata": {
    "scrolled": true
   },
   "outputs": [
    {
     "name": "stdout",
     "output_type": "stream",
     "text": [
      "(4, 3)\n",
      "(3,)\n",
      "(4, 3)\n",
      "\n",
      "[[ 2  2  4]\n",
      " [ 5  5  7]\n",
      " [ 8  8 10]\n",
      " [11 11 13]]\n"
     ]
    }
   ],
   "source": [
    "x1 = np.array([[1,2,3],[4,5,6],[7,8,9],[10,11,12]])\n",
    "y1 = np.array([1,0,1])\n",
    "y2 = x1 + y1\n",
    "print(x1.shape)\n",
    "print(y1.shape)\n",
    "print(y2.shape)\n",
    "print()\n",
    "print(y2)"
   ]
  },
  {
   "cell_type": "code",
   "execution_count": null,
   "metadata": {},
   "outputs": [],
   "source": []
  }
 ],
 "metadata": {
  "kernelspec": {
   "display_name": "Python 3",
   "language": "python",
   "name": "python3"
  },
  "language_info": {
   "codemirror_mode": {
    "name": "ipython",
    "version": 3
   },
   "file_extension": ".py",
   "mimetype": "text/x-python",
   "name": "python",
   "nbconvert_exporter": "python",
   "pygments_lexer": "ipython3",
   "version": "3.7.1"
  }
 },
 "nbformat": 4,
 "nbformat_minor": 2
}
