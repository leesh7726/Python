{
 "cells": [
  {
   "cell_type": "code",
   "execution_count": 53,
   "metadata": {
    "collapsed": true
   },
   "outputs": [
    {
     "name": "stdout",
     "output_type": "stream",
     "text": [
      "0    1\n",
      "1    2\n",
      "2    3\n",
      "3    4\n",
      "dtype: int32\n",
      "\n",
      "0    홍길동\n",
      "1    이순신\n",
      "2    강감찬\n",
      "dtype: object\n",
      "\n",
      "0    홍길동\n",
      "2    이순신\n",
      "1    강감찬\n",
      "dtype: object\n",
      "\n",
      "100    홍길동\n",
      "200    이순신\n",
      "300    강감찬\n",
      "dtype: object\n",
      "\n",
      "a    100\n",
      "c    300\n",
      "b    200\n",
      "dtype: int64\n",
      "\n",
      "100    1\n",
      "101    2\n",
      "102    3\n",
      "103    4\n",
      "dtype: int64\n",
      "\n"
     ]
    }
   ],
   "source": [
    "#pandas.Serise() -> 1차원 형태로만 가능 //dataframe -> 2차원 // panel -> 3차원\n",
    "\n",
    "import pandas as pd\n",
    "import numpy as np\n",
    "\n",
    "# s = pd.Series()\n",
    "# print(s)\n",
    "data = np.array([1,2,3,4])\n",
    "s2 = pd.Series(data) # index data 형식으로 나옴\n",
    "print(s2) \n",
    "print()\n",
    "\n",
    "data2 = np.array(['홍길동','이순신','강감찬'])\n",
    "s3 = pd.Series(data2)\n",
    "print (s3)\n",
    "print()\n",
    "\n",
    "data2 = np.array(['홍길동','이순신','강감찬'])\n",
    "s3 = pd.Series(data2, index=[0,2,1]) # index 설정 해줄수 있음\n",
    "print (s3)\n",
    "print()\n",
    "\n",
    "data2 = np.array(['홍길동','이순신','강감찬'])\n",
    "label = [100,200,300]\n",
    "s3 = pd.Series(data2, label) # index 설정 해줄수 있음 ????? 라벨??@@@@@@@@@@@@@@\n",
    "print (s3)\n",
    "print()\n",
    " \n",
    "data3 = {'a':100, 'b':200, 'c':300} \n",
    "s3 = pd.Series(data3, index=['a','c','b']) #dictionary type으로 값 넣기 //Index 순서 바꿔서 출력\n",
    "print(s3)\n",
    "print()\n",
    "\n",
    "data4 = [1,2,3,4]\n",
    "s4 = pd.Series(data4, index = [100,101,102,103])\n",
    "print(s4)\n",
    "print()"
   ]
  },
  {
   "cell_type": "code",
   "execution_count": 38,
   "metadata": {
    "collapsed": true
   },
   "outputs": [
    {
     "name": "stdout",
     "output_type": "stream",
     "text": [
      "1\n",
      "1\n",
      "b    2\n",
      "c    3\n",
      "d    4\n",
      "dtype: int64\n",
      "c    3\n",
      "d    4\n",
      "dtype: int64\n",
      "b    2\n",
      "c    3\n",
      "d    4\n",
      "dtype: int64\n",
      "a    1\n",
      "c    3\n",
      "d    4\n",
      "dtype: int64\n",
      "\n"
     ]
    }
   ],
   "source": [
    "#index, slicing\n",
    "\n",
    "data5 = pd.Series([1,2,3,4], index = ['a','b','c','d'])\n",
    "print(data5[0])\n",
    "print(data5['a']) # 위와 같다\n",
    "print(data5[1:])\n",
    "print(data5['c':]) # 문자로도 slicing 가능하다\n",
    "print(data5[-3:])\n",
    "print(data5[['a','c','d']]) # []두개임 주의할 것\n",
    "print()"
   ]
  },
  {
   "cell_type": "code",
   "execution_count": 52,
   "metadata": {
    "collapsed": true
   },
   "outputs": [
    {
     "name": "stdout",
     "output_type": "stream",
     "text": [
      "0    1\n",
      "1    2\n",
      "2    3\n",
      "3    4\n",
      "dtype: int32\n",
      "\n",
      "   0  1  2  3\n",
      "0  1  2  3  4\n",
      "1  1  2  3  4\n",
      "\n",
      "<class 'pandas.core.panel.Panel'>\n",
      "Dimensions: 2 (items) x 2 (major_axis) x 2 (minor_axis)\n",
      "Items axis: 0 to 1\n",
      "Major_axis axis: 0 to 1\n",
      "Minor_axis axis: 0 to 1\n",
      "\n"
     ]
    }
   ],
   "source": [
    "# 1차원 배열은 Series\n",
    "data = np.array([1,2,3,4])\n",
    "s2 = pd.Series(data) \n",
    "print(s2) \n",
    "print()\n",
    "\n",
    "\n",
    "\n",
    "# 2차원 배열을 Series로 하면 오류가 남.\n",
    "# data = np.array([[1,2,3,4],[1,2,3,4]])\n",
    "# s2 = pd.Series(data) \n",
    "# print(s2) \n",
    "# print()\n",
    "\n",
    "\n",
    "# 2차원 배열은 DataFrame\n",
    "data = np.array([[1,2,3,4],[1,2,3,4]])\n",
    "s2 = pd.DataFrame(data) \n",
    "print(s2) \n",
    "print()\n",
    "\n",
    "\n",
    "#3차원 배열은 Panel\n",
    "data = np.array([1,2,3,4,5,6,7,8])\n",
    "data.shape = (2,2,2)\n",
    "s2 = pd.Panel(data)\n",
    "print(s2) \n",
    "print()\n",
    "\n"
   ]
  },
  {
   "cell_type": "code",
   "execution_count": 81,
   "metadata": {
    "collapsed": true
   },
   "outputs": [
    {
     "name": "stdout",
     "output_type": "stream",
     "text": [
      "   0\n",
      "0  1\n",
      "1  2\n",
      "2  3\n",
      "3  4\n",
      "\n",
      "       0  1\n",
      "0  item1  1\n",
      "1  item2  2\n",
      "2  item3  3\n",
      "\n",
      "       x    y\n",
      "a  item1  1.0\n",
      "b  item2  NaN\n",
      "c  item3  3.0\n",
      "\n",
      "         Name  Qty\n",
      "First   item1  1.0\n",
      "Second  item2  NaN\n",
      "Third   item3  3.0\n",
      "\n"
     ]
    }
   ],
   "source": [
    "import pandas as pd\n",
    "data = [1,2,3,4]\n",
    "df = pd.DataFrame(data)\n",
    "print(df)\n",
    "print()\n",
    "\n",
    "data = [['item1',1],['item2',2],['item3',3]]\n",
    "df = pd.DataFrame(data)\n",
    "print(df)\n",
    "print()\n",
    "\n",
    "data = [['item1',1],['item2'],['item3',3]] # 값 없으면 NaN 출력됨\n",
    "labelx = ['a','b','c']\n",
    "labely = ['x','y']\n",
    "df = pd.DataFrame(data, labelx, labely) # 인덱스 지정 가능\n",
    "print(df)\n",
    "print()\n",
    "\n",
    "data = [['item1',1],['item2'],['item3',3]] # 값 없으면 NaN 출력됨\n",
    "df = pd.DataFrame(data, index=['First','Second','Third'], columns=['Name','Qty']) # Index, Columns로 각각 지정\n",
    "print(df)\n",
    "print()"
   ]
  }
 ],
 "metadata": {
  "kernelspec": {
   "display_name": "Python 3",
   "language": "python",
   "name": "python3"
  },
  "language_info": {
   "codemirror_mode": {
    "name": "ipython",
    "version": 3
   },
   "file_extension": ".py",
   "mimetype": "text/x-python",
   "name": "python",
   "nbconvert_exporter": "python",
   "pygments_lexer": "ipython3",
   "version": "3.7.1"
  }
 },
 "nbformat": 4,
 "nbformat_minor": 2
}
