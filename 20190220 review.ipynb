{
 "cells": [
  {
   "cell_type": "code",
   "execution_count": 20,
   "metadata": {
    "scrolled": true
   },
   "outputs": [
    {
     "name": "stdout",
     "output_type": "stream",
     "text": [
      "a\n",
      "[1 2 3 4]\n",
      "(4,)\n",
      "int32\n",
      "1\n",
      "\n",
      "a1\n",
      "[1. 2. 3. 4.]\n",
      "(4,)\n",
      "float64\n",
      "1\n",
      "\n",
      "a2\n",
      "[[1 2]\n",
      " [3 4]]\n",
      "(2, 2)\n",
      "int32\n",
      "2\n",
      "\n",
      "a3\n",
      "[0 1 2 3 4 5 6 7 8 9]\n",
      "(10,)\n",
      "int32\n",
      "1\n",
      "\n"
     ]
    }
   ],
   "source": [
    "import numpy as np\n",
    "\n",
    "a = np.array([1,2,3,4])\n",
    "print(\"a\")\n",
    "print(a)\n",
    "print(a.shape)\n",
    "print(a.dtype)\n",
    "print(a.ndim)\n",
    "print()\n",
    "\n",
    "a1 = np.array([1,2,3,4], dtype = np.float)\n",
    "print(\"a1\")\n",
    "print(a1)\n",
    "print(a1.shape)\n",
    "print(a1.dtype)\n",
    "print(a1.ndim)\n",
    "print()\n",
    "\n",
    "a2 = np.array([[1,2],[3,4]])\n",
    "print(\"a2\")\n",
    "print(a2)\n",
    "print(a2.shape)\n",
    "print(a2.dtype)\n",
    "print(a2.ndim)\n",
    "print()\n",
    "\n",
    "a3 = np.arange(10)\n",
    "print(\"a3\")\n",
    "print(a3)\n",
    "print(a3.shape)\n",
    "print(a3.dtype)\n",
    "print(a3.ndim)\n",
    "print()"
   ]
  },
  {
   "cell_type": "code",
   "execution_count": 16,
   "metadata": {},
   "outputs": [
    {
     "name": "stdout",
     "output_type": "stream",
     "text": [
      "int32\n",
      ">i4\n",
      "[(1,) (2,) (3,) (4,)]\n",
      "[('age', 'i1')]\n"
     ]
    }
   ],
   "source": [
    "dt = np.dtype('i4')\n",
    "a3 = np.array([1,2,3,4], dtype = dt)\n",
    "print(a3.dtype)\n",
    "\n",
    "dt = np.dtype('>i4')\n",
    "a3 = np.array([1,2,3,4], dtype = dt)\n",
    "print(a3.dtype)\n",
    "\n",
    "dt2 = np.dtype([('age', np.int8)]) # age 타입  만들기??@@@@@@@@@@\n",
    "a4 = np.array([1,2,3,4], dtype = dt2)\n",
    "print(a4)\n",
    "print(a4.dtype) #  i1 -> int형 1바이트"
   ]
  },
  {
   "cell_type": "code",
   "execution_count": 28,
   "metadata": {
    "scrolled": true
   },
   "outputs": [
    {
     "name": "stdout",
     "output_type": "stream",
     "text": [
      "a\n",
      "[1 2 3 4]\n",
      "(4,)\n",
      "int32\n",
      "1\n",
      "\n",
      "a change shape\n",
      "[[1 2]\n",
      " [3 4]]\n",
      "(2, 2)\n",
      "int32\n",
      "2\n",
      "\n",
      "reshape a\n",
      "[[1]\n",
      " [2]\n",
      " [3]\n",
      " [4]]\n",
      "(4, 1)\n",
      "int32\n",
      "2\n",
      "\n",
      "a change type\n",
      "[[1.]\n",
      " [2.]\n",
      " [3.]\n",
      " [4.]]\n",
      "(4, 1)\n",
      "float64\n",
      "2\n",
      "\n",
      "create a in range(0,24)\n",
      "[ 0  1  2  3  4  5  6  7  8  9 10 11 12 13 14 15 16 17 18 19 20 21 22 23]\n",
      "(24,)\n",
      "int32\n",
      "1\n",
      "\n",
      "reshape\n",
      "[[[ 0  1  2]\n",
      "  [ 3  4  5]\n",
      "  [ 6  7  8]\n",
      "  [ 9 10 11]]\n",
      "\n",
      " [[12 13 14]\n",
      "  [15 16 17]\n",
      "  [18 19 20]\n",
      "  [21 22 23]]]\n",
      "(2, 4, 3)\n",
      "int32\n",
      "3\n",
      "4\n",
      "\n",
      "create a random element\n",
      "[[[6.23042070e-307 4.67296746e-307 1.69121096e-306]\n",
      "  [1.29061074e-306 1.69119873e-306 1.78019082e-306]\n",
      "  [1.89146896e-307 1.37961302e-306 1.05699242e-307]\n",
      "  [8.01097889e-307 1.78020169e-306 7.56601165e-307]]\n",
      "\n",
      " [[1.02359984e-306 1.33510679e-306 2.22522597e-306]\n",
      "  [6.23053614e-307 2.22522597e-306 1.06810268e-306]\n",
      "  [6.23052935e-307 1.60221072e-306 8.45559303e-307]\n",
      "  [1.06811422e-306 1.05694828e-307 2.22522596e-306]]]\n",
      "(2, 4, 3)\n",
      "float64\n",
      "3\n",
      "\n",
      "create a element=0\n",
      "[0. 0. 0. 0. 0. 0. 0. 0. 0. 0. 0. 0. 0. 0. 0. 0. 0. 0. 0. 0. 0. 0. 0. 0.]\n",
      "(24,)\n",
      "float64\n",
      "1\n",
      "\n",
      "create a random element\n",
      "[[7 7]\n",
      " [7 7]]\n",
      "(2, 2)\n",
      "int32\n",
      "2\n",
      "\n",
      "create a random element\n",
      "[[1. 0. 0. 0. 0. 0. 0.]\n",
      " [0. 1. 0. 0. 0. 0. 0.]\n",
      " [0. 0. 1. 0. 0. 0. 0.]\n",
      " [0. 0. 0. 1. 0. 0. 0.]\n",
      " [0. 0. 0. 0. 1. 0. 0.]\n",
      " [0. 0. 0. 0. 0. 1. 0.]\n",
      " [0. 0. 0. 0. 0. 0. 1.]]\n",
      "(7, 7)\n",
      "float64\n",
      "2\n",
      "\n"
     ]
    }
   ],
   "source": [
    "a = np.array([1,2,3,4])\n",
    "print(\"a\")\n",
    "print(a)\n",
    "print(a.shape)\n",
    "print(a.dtype)\n",
    "print(a.ndim)\n",
    "print()\n",
    "\n",
    "a.shape = (2,2) # shape change\n",
    "print(\"a change shape\")\n",
    "print(a)\n",
    "print(a.shape)\n",
    "print(a.dtype)\n",
    "print(a.ndim)\n",
    "print()\n",
    "\n",
    "a = a.reshape(4,1)\n",
    "print(\"reshape a\")\n",
    "print(a)\n",
    "print(a.shape)\n",
    "print(a.dtype)\n",
    "print(a.ndim)\n",
    "print()\n",
    "\n",
    "\n",
    "a = a.astype(np.float) # type change\n",
    "print(\"a change type\")\n",
    "print(a)\n",
    "print(a.shape)\n",
    "print(a.dtype)\n",
    "print(a.ndim)\n",
    "print()\n",
    "\n",
    "\n",
    "a = np.arange(24)\n",
    "print(\"create a in range(0,24)\")\n",
    "print(a)\n",
    "print(a.shape)\n",
    "print(a.dtype)\n",
    "print(a.ndim)\n",
    "print()\n",
    "\n",
    "a = a.reshape(2,4,3)\n",
    "print(\"reshape\")\n",
    "print(a)\n",
    "print(a.shape)\n",
    "print(a.dtype)\n",
    "print(a.ndim)\n",
    "print(a.itemsize) #byte size // 24bit = 3byte\n",
    "print()\n",
    "\n",
    "a = np.empty((2,4,3))\n",
    "print(\"create a random element\")\n",
    "print(a)\n",
    "print(a.shape)\n",
    "print(a.dtype)\n",
    "print(a.ndim)\n",
    "print()\n",
    "\n",
    "\n",
    "a = np.zeros(24) # np.ones -> element = 1\n",
    "print(\"create a element=0\") \n",
    "print(a)\n",
    "print(a.shape)\n",
    "print(a.dtype)\n",
    "print(a.ndim)\n",
    "print()\n",
    "\n",
    "a = np.full((2,2), 7) # 7로 채운 2*2크기의 행렬 생성\n",
    "print(\"create a random element\")\n",
    "print(a)\n",
    "print(a.shape)\n",
    "print(a.dtype)\n",
    "print(a.ndim)\n",
    "print()\n",
    "\n",
    "a = np.eye(7) # n,n이 1 인 7*7크기의 행렬 생성\n",
    "print(\"create a random element\")\n",
    "print(a)\n",
    "print(a.shape)\n",
    "print(a.dtype)\n",
    "print(a.ndim)\n",
    "print()\n",
    "\n"
   ]
  },
  {
   "cell_type": "code",
   "execution_count": 27,
   "metadata": {
    "scrolled": true
   },
   "outputs": [
    {
     "name": "stdout",
     "output_type": "stream",
     "text": [
      "[11 22 33]\n",
      "[10 40 90]\n"
     ]
    }
   ],
   "source": [
    "\n",
    "#연산기능\n",
    "a = np.array([1,2,3]) \n",
    "a1 = np.array([10,20,30])\n",
    "\n",
    "print(a + a1)\n",
    "print(a * a1)"
   ]
  },
  {
   "cell_type": "code",
   "execution_count": 42,
   "metadata": {},
   "outputs": [
    {
     "name": "stdout",
     "output_type": "stream",
     "text": [
      "[1 2 3 4]\n",
      "2\n",
      "[ 1  5  9 13]\n",
      "[5 6 7 8]\n",
      "[7 8]\n",
      "\n",
      "[6 7 8]\n",
      "[10 11 12]\n",
      "[14 15 16]\n",
      "\n"
     ]
    }
   ],
   "source": [
    "a = np.array([[1,2,3,4],[5,6,7,8],[9,10,11,12],[13,14,15,16]])\n",
    "print(a[0])\n",
    "print(a[0,1])\n",
    "print(a[:,0]) #열 출력\n",
    "print(a[1,:]) #행 출력\n",
    "print(a[1,2:]) #원하는 범위? 출력 \n",
    "print()\n",
    "for r in a[1:,1:]:\n",
    "    print(r)\n",
    "print()\n",
    "\n"
   ]
  },
  {
   "cell_type": "code",
   "execution_count": 45,
   "metadata": {},
   "outputs": [
    {
     "name": "stdout",
     "output_type": "stream",
     "text": [
      "(3830, 104)\n",
      "[['서울특별시  (1100000000)']\n",
      " ['서울특별시 종로구 (1111000000)']\n",
      " ['서울특별시 종로구 청운효자동(1111051500)']\n",
      " ...\n",
      " ['제주특별자치도 서귀포시 대천동(5013060000)']\n",
      " ['제주특별자치도 서귀포시 중문동(5013061000)']\n",
      " ['제주특별자치도 서귀포시 예래동(5013062000)']]\n",
      "\n",
      "['서울특별시  (1100000000)' '서울특별시 종로구 (1111000000)'\n",
      " '서울특별시 종로구 청운효자동(1111051500)' ... '제주특별자치도 서귀포시 대천동(5013060000)'\n",
      " '제주특별자치도 서귀포시 중문동(5013061000)' '제주특별자치도 서귀포시 예래동(5013062000)']\n"
     ]
    }
   ],
   "source": [
    "import numpy as np\n",
    "data = np.loadtxt(fname = \"village_population.csv\", dtype=np.str, encoding='utf-8', delimiter=',', usecols=range(0,104))\n",
    "print(data.shape)\n",
    "print(data[1:, 0:1])\n",
    "print()\n",
    "print(data[1:,0])\n"
   ]
  },
  {
   "cell_type": "code",
   "execution_count": 65,
   "metadata": {
    "scrolled": true
   },
   "outputs": [
    {
     "name": "stdout",
     "output_type": "stream",
     "text": [
      "[ 61253  70532  74322  72482  71688  78941  75386  75929  71772  76157\n",
      "  80577  74502  72380  80264  83081  83791  93326 108584 105344 112807\n",
      " 120957 125632 134735 143930 149420 159845 161550 150999 149562 150485\n",
      " 146573 148015 150838 149335 163855 173092 173138 169187 165335 139821\n",
      " 150481 147416 150031 162292 168414 171738 181275 175113 172711 168518\n",
      " 157576 144996 154444 153733 146916 158349 163134 168880 158018 147497\n",
      " 147029 133804 141178 119297 105263 114400  80233  89224  89871  88753\n",
      "  90591  73185  64285  64933  63515  74898  60021  50860  49861  43160\n",
      "  38593  34377  31713  26206  21753  19206  15377  13515  12208  10165\n",
      "   8200   5892   4695   3589   3501   2569   1851   1436   1010    736\n",
      "   5519]\n"
     ]
    },
    {
     "data": {
      "image/png": "[encoded data removed]",
      "text/plain": [
       "<Figure size 432x288 with 1 Axes>"
      ]
     },
     "metadata": {
      "needs_background": "light"
     },
     "output_type": "display_data"
    }
   ],
   "source": [
    "data2 = data[1:,:]\n",
    "data3 = []\n",
    "for row in data2:\n",
    "    if '1100000000' in row[0] :\n",
    "        data3 = np.array(row[3:104], dtype=np.int)\n",
    "        \n",
    "print(data3)\n",
    "import matplotlib.pyplot as plt\n",
    "plt.plot(data3)\n",
    "plt.show()\n"
   ]
  },
  {
   "cell_type": "code",
   "execution_count": null,
   "metadata": {},
   "outputs": [],
   "source": []
  }
 ],
 "metadata": {
  "kernelspec": {
   "display_name": "Python 3",
   "language": "python",
   "name": "python3"
  },
  "language_info": {
   "codemirror_mode": {
    "name": "ipython",
    "version": 3
   },
   "file_extension": ".py",
   "mimetype": "text/x-python",
   "name": "python",
   "nbconvert_exporter": "python",
   "pygments_lexer": "ipython3",
   "version": "3.7.1"
  }
 },
 "nbformat": 4,
 "nbformat_minor": 2
}
